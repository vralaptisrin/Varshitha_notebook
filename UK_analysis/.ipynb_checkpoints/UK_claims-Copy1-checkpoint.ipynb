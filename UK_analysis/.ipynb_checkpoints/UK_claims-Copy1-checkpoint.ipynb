{
 "cells": [
  {
   "cell_type": "code",
   "execution_count": 35,
   "id": "c47535dd-a636-4e23-85ac-c0a2326edf32",
   "metadata": {},
   "outputs": [],
   "source": [
    "import pandas as pd\n",
    "import numpy as np\n",
    "import matplotlib.pyplot as plt\n",
    "import seaborn as sns"
   ]
  },
  {
   "cell_type": "code",
   "execution_count": 36,
   "id": "df5d6730-e41c-4929-8b25-96a9071f6bfd",
   "metadata": {},
   "outputs": [],
   "source": [
    "import auth\n",
    "import getpass\n",
    "\n",
    "user  = getpass.getuser()\n",
    "token = auth.get_valid_token()"
   ]
  },
  {
   "cell_type": "code",
   "execution_count": 37,
   "id": "e67879ce-3105-4976-b9cf-efe7648a50c3",
   "metadata": {},
   "outputs": [],
   "source": [
    "import trino\n",
    "import os\n",
    "connection = trino.dbapi.connect(\n",
    "    host=os.environ['PRESTO_HOST'],\n",
    "    port=443,\n",
    "    user=user,\n",
    "    catalog=\"hive\",\n",
    "    schema=\"dwh_insider\",\n",
    "    http_scheme='https',\n",
    "    auth=trino.auth.BasicAuthentication(user, token))"
   ]
  },
  {
   "cell_type": "code",
   "execution_count": 38,
   "id": "cbde8394-a1de-4a1d-a527-c7597481e099",
   "metadata": {},
   "outputs": [
    {
     "name": "stderr",
     "output_type": "stream",
     "text": [
      "/tmp/ipykernel_1796/2270083925.py:91: UserWarning:\n",
      "\n",
      "pandas only supports SQLAlchemy connectable (engine/connection) or database string URI or sqlite3 DBAPI2 connection. Other DBAPI2 objects are not tested. Please consider using SQLAlchemy.\n",
      "\n"
     ]
    },
    {
     "data": {
      "text/html": [
       "<div>\n",
       "<style scoped>\n",
       "    .dataframe tbody tr th:only-of-type {\n",
       "        vertical-align: middle;\n",
       "    }\n",
       "\n",
       "    .dataframe tbody tr th {\n",
       "        vertical-align: top;\n",
       "    }\n",
       "\n",
       "    .dataframe thead th {\n",
       "        text-align: right;\n",
       "    }\n",
       "</style>\n",
       "<table border=\"1\" class=\"dataframe\">\n",
       "  <thead>\n",
       "    <tr style=\"text-align: right;\">\n",
       "      <th></th>\n",
       "      <th>number_of_claims</th>\n",
       "      <th>claims_amount</th>\n",
       "      <th>country_code</th>\n",
       "      <th>sk_month</th>\n",
       "      <th>carrier</th>\n",
       "      <th>ZIP</th>\n",
       "      <th>city</th>\n",
       "      <th>unplanned_return_flag</th>\n",
       "      <th>reconditioned_claim_flag</th>\n",
       "    </tr>\n",
       "  </thead>\n",
       "  <tbody>\n",
       "    <tr>\n",
       "      <th>0</th>\n",
       "      <td>2</td>\n",
       "      <td>301.2100000</td>\n",
       "      <td>FR</td>\n",
       "      <td>202201</td>\n",
       "      <td>CHRONOPOST</td>\n",
       "      <td>62000</td>\n",
       "      <td>Arras</td>\n",
       "      <td>0</td>\n",
       "      <td>0</td>\n",
       "    </tr>\n",
       "    <tr>\n",
       "      <th>1</th>\n",
       "      <td>1</td>\n",
       "      <td>33.4000000</td>\n",
       "      <td>FR</td>\n",
       "      <td>202201</td>\n",
       "      <td>COLIS PRIVÉ</td>\n",
       "      <td>22700</td>\n",
       "      <td>Louannec</td>\n",
       "      <td>0</td>\n",
       "      <td>1</td>\n",
       "    </tr>\n",
       "    <tr>\n",
       "      <th>2</th>\n",
       "      <td>1</td>\n",
       "      <td>122.3900000</td>\n",
       "      <td>CH</td>\n",
       "      <td>202206</td>\n",
       "      <td>SWISS POST</td>\n",
       "      <td>1218</td>\n",
       "      <td>Le Grand-Saconnex</td>\n",
       "      <td>1</td>\n",
       "      <td>0</td>\n",
       "    </tr>\n",
       "    <tr>\n",
       "      <th>3</th>\n",
       "      <td>2</td>\n",
       "      <td>46.8979000</td>\n",
       "      <td>FI</td>\n",
       "      <td>202201</td>\n",
       "      <td>POSTNORD</td>\n",
       "      <td>00600</td>\n",
       "      <td>HELSINKI</td>\n",
       "      <td>0</td>\n",
       "      <td>0</td>\n",
       "    </tr>\n",
       "    <tr>\n",
       "      <th>4</th>\n",
       "      <td>2</td>\n",
       "      <td>238.1100000</td>\n",
       "      <td>CH</td>\n",
       "      <td>202206</td>\n",
       "      <td>SWISS POST</td>\n",
       "      <td>2552</td>\n",
       "      <td>Orpund</td>\n",
       "      <td>0</td>\n",
       "      <td>0</td>\n",
       "    </tr>\n",
       "    <tr>\n",
       "      <th>...</th>\n",
       "      <td>...</td>\n",
       "      <td>...</td>\n",
       "      <td>...</td>\n",
       "      <td>...</td>\n",
       "      <td>...</td>\n",
       "      <td>...</td>\n",
       "      <td>...</td>\n",
       "      <td>...</td>\n",
       "      <td>...</td>\n",
       "    </tr>\n",
       "    <tr>\n",
       "      <th>272493</th>\n",
       "      <td>1</td>\n",
       "      <td>99.9600000</td>\n",
       "      <td>FR</td>\n",
       "      <td>202210</td>\n",
       "      <td>LA POSTE</td>\n",
       "      <td>93800</td>\n",
       "      <td>EPINAY SUR SEINE</td>\n",
       "      <td>0</td>\n",
       "      <td>0</td>\n",
       "    </tr>\n",
       "    <tr>\n",
       "      <th>272494</th>\n",
       "      <td>1</td>\n",
       "      <td>0.2600000</td>\n",
       "      <td>IT</td>\n",
       "      <td>202206</td>\n",
       "      <td>POSTEITALIANE</td>\n",
       "      <td>00054</td>\n",
       "      <td>FIUMICINO</td>\n",
       "      <td>0</td>\n",
       "      <td>0</td>\n",
       "    </tr>\n",
       "    <tr>\n",
       "      <th>272495</th>\n",
       "      <td>1</td>\n",
       "      <td>170.6100000</td>\n",
       "      <td>CH</td>\n",
       "      <td>202208</td>\n",
       "      <td>SWISS POST</td>\n",
       "      <td>5032</td>\n",
       "      <td>Aarau Rohr</td>\n",
       "      <td>0</td>\n",
       "      <td>0</td>\n",
       "    </tr>\n",
       "    <tr>\n",
       "      <th>272496</th>\n",
       "      <td>1</td>\n",
       "      <td>66.6300000</td>\n",
       "      <td>FR</td>\n",
       "      <td>202201</td>\n",
       "      <td>CHRONOPOST</td>\n",
       "      <td>28210</td>\n",
       "      <td>Coulombs</td>\n",
       "      <td>0</td>\n",
       "      <td>0</td>\n",
       "    </tr>\n",
       "    <tr>\n",
       "      <th>272497</th>\n",
       "      <td>1</td>\n",
       "      <td>43.6000000</td>\n",
       "      <td>GB</td>\n",
       "      <td>202206</td>\n",
       "      <td>HERMES</td>\n",
       "      <td>M35 9LQ</td>\n",
       "      <td>Manchester</td>\n",
       "      <td>0</td>\n",
       "      <td>0</td>\n",
       "    </tr>\n",
       "  </tbody>\n",
       "</table>\n",
       "<p>272498 rows × 9 columns</p>\n",
       "</div>"
      ],
      "text/plain": [
       "        number_of_claims claims_amount country_code  sk_month        carrier  \\\n",
       "0                      2   301.2100000           FR    202201     CHRONOPOST   \n",
       "1                      1    33.4000000           FR    202201    COLIS PRIVÉ   \n",
       "2                      1   122.3900000           CH    202206     SWISS POST   \n",
       "3                      2    46.8979000           FI    202201       POSTNORD   \n",
       "4                      2   238.1100000           CH    202206     SWISS POST   \n",
       "...                  ...           ...          ...       ...            ...   \n",
       "272493                 1    99.9600000           FR    202210       LA POSTE   \n",
       "272494                 1     0.2600000           IT    202206  POSTEITALIANE   \n",
       "272495                 1   170.6100000           CH    202208     SWISS POST   \n",
       "272496                 1    66.6300000           FR    202201     CHRONOPOST   \n",
       "272497                 1    43.6000000           GB    202206         HERMES   \n",
       "\n",
       "            ZIP               city unplanned_return_flag  \\\n",
       "0         62000              Arras                     0   \n",
       "1         22700           Louannec                     0   \n",
       "2          1218  Le Grand-Saconnex                     1   \n",
       "3         00600           HELSINKI                     0   \n",
       "4          2552             Orpund                     0   \n",
       "...         ...                ...                   ...   \n",
       "272493    93800   EPINAY SUR SEINE                     0   \n",
       "272494    00054          FIUMICINO                     0   \n",
       "272495     5032         Aarau Rohr                     0   \n",
       "272496    28210           Coulombs                     0   \n",
       "272497  M35 9LQ         Manchester                     0   \n",
       "\n",
       "       reconditioned_claim_flag  \n",
       "0                             0  \n",
       "1                             1  \n",
       "2                             0  \n",
       "3                             0  \n",
       "4                             0  \n",
       "...                         ...  \n",
       "272493                        0  \n",
       "272494                        0  \n",
       "272495                        0  \n",
       "272496                        0  \n",
       "272497                        0  \n",
       "\n",
       "[272498 rows x 9 columns]"
      ]
     },
     "execution_count": 38,
     "metadata": {},
     "output_type": "execute_result"
    }
   ],
   "source": [
    "# Taking the claim information from the datalake\n",
    "query = \"\"\"\n",
    "WITH claim_query as \n",
    "(\n",
    "SELECT\n",
    "\n",
    "       carrier_tracking_number\n",
    "      , claim_shipment_number\n",
    "      , sk_claim_report_date\n",
    "      , aviailable_claim_amount_euro\n",
    "      , net_claim_amount_euro\n",
    "      , carrier_name\n",
    "      , carrier_name_short\n",
    "      , country_code \n",
    "      , sk_shipping_country as country\n",
    "      , claimtype\n",
    "      , cast(sk_month as int) as sk_month\n",
    "      , SK_WEEK\n",
    "      , claimsubtype\n",
    "      , manual_refund_reason_name\n",
    "      , claim_category\n",
    "      , dd.ZIP\n",
    "      , dd.city\n",
    "      , TS_LAST_COT_EVENT\n",
    "      , TS_LAST_CRT_EVENT\n",
    "      , unplanned_return_flag \n",
    "      , reconditioned_claim_flag \n",
    "      , CASE WHEN chan.sk_cfa in (31, 26) THEN 'FashionStore'\n",
    "             WHEN chan.sk_cfa = 28 THEN 'Lounge' END AS cfa -- 26 is empty for recent periods, it stands for zlash\n",
    "      ,CASE WHEN carrier_name='n/a' THEN claimsubtype\n",
    "            ELSE carrier_name END AS carrier\n",
    "FROM\n",
    "    dwh_confidential.f_clm_claim_shipments as fccs\n",
    "LEFT JOIN\n",
    "          dwh_insider.d_clm_carrier_liability as dccl\n",
    "          ON dccl.sk_clm_carrier_liability = fccs.sk_clm_carrier_liability\n",
    "LEFT JOIN\n",
    "          dwh_insider.d_network_carriers as dnc\n",
    "          ON dnc.sk_network_carrier = fccs.sk_network_carrier\n",
    "LEFT JOIN\n",
    "          dwh_insider.d_sf_carrier_claim_types as dscct\n",
    "          ON dscct.sk_claim_type = fccs.sk_claim_type\n",
    "LEFT JOIN\n",
    "          dwh_insider.d_clm_claim_categories as dccc\n",
    "          ON dccc.sk_claim_category = fccs.sk_claim_category\n",
    "LEFT JOIN\n",
    "          dwh_insider.d_manual_refund_reason AS dmrr\n",
    "          ON dmrr.sk_manual_refund_reason = fccs.sk_manual_refund_reason\n",
    "LEFT JOIN\n",
    "          dwh_confidential.D_DESTINATIONS AS dd\n",
    "          ON fccs.SK_DESTINATION = dd.SK_DESTINATION\n",
    "LEFT JOIN\n",
    "          dwh_insider.d_sales_channels AS chan\n",
    "          ON fccs.sk_sales_channel = chan.sk_sales_channels \n",
    "LEFT JOIN \n",
    "          dwh_insider.d_date as d\n",
    "          ON d.sk_date=fccs.sk_claim_report_date\n",
    "          \n",
    "WHERE  chan.sk_cfa in (31, 26, 28)\n",
    ")\n",
    "SELECT \n",
    "       COUNT(DISTINCT claim_shipment_number) as number_of_claims,\n",
    "       SUM(aviailable_claim_amount_euro) as claims_amount ,\n",
    "       country_code , \n",
    "       sk_month,\n",
    "       carrier,\n",
    "       ZIP,\n",
    "       city,\n",
    "       unplanned_return_flag,\n",
    "       reconditioned_claim_flag \n",
    "       \n",
    "FROM claim_query\n",
    " WHERE \n",
    "\n",
    "   claimtype='Delivery'\n",
    "   \n",
    "    AND \n",
    "     cfa = 'FashionStore'\n",
    "      AND \n",
    "      sk_month Between 202201 AND 202212\n",
    "GROUP BY \n",
    "         sk_month , \n",
    "         country_code,\n",
    "         carrier,\n",
    "         ZIP,\n",
    "         city,   \n",
    "         unplanned_return_flag,\n",
    "         reconditioned_claim_flag\n",
    "         \n",
    "   \"\"\"\n",
    "df = pd.read_sql_query(query, connection)\n",
    "df  "
   ]
  },
  {
   "cell_type": "code",
   "execution_count": 39,
   "id": "21cc91ae-1f63-444c-b31b-e79709bde1c1",
   "metadata": {},
   "outputs": [],
   "source": [
    "df['claims_amount']=df['claims_amount'].astype(float)"
   ]
  },
  {
   "cell_type": "code",
   "execution_count": null,
   "id": "477ad0a3-0ce5-4bbb-bf23-e8658c7f61fa",
   "metadata": {},
   "outputs": [],
   "source": [
    "df.sort_values(by=['number_of_claims'], ascending=False, na_position='first').head(30)"
   ]
  },
  {
   "cell_type": "code",
   "execution_count": 33,
   "id": "c035e765-3eeb-48b5-a2bc-1cf4f6880475",
   "metadata": {},
   "outputs": [
    {
     "data": {
      "application/vnd.plotly.v1+json": {
       "config": {
        "plotlyServerURL": "https://plot.ly"
       },
       "data": [
        {
         "lat": [
          53.540725,
          50.7431,
          52.3908,
          49.4403,
          52.5123
         ],
         "lon": [
          10.105975,
          7.059,
          13.0645,
          11.0809,
          13.4394
         ],
         "marker": {
          "color": [
           1,
           3,
           2,
           3,
           4
          ]
         },
         "mode": "markers",
         "text": [
          "val1",
          "val2",
          "val3",
          "val2",
          "val2"
         ],
         "type": "scattergeo"
        }
       ],
       "layout": {
        "autosize": true,
        "dragmode": "pan",
        "geo": {
         "center": {
          "lat": 57.5,
          "lon": 15
         },
         "fitbounds": false,
         "projection": {
          "scale": 1
         },
         "scope": "europe"
        },
        "margin": {
         "b": 40,
         "l": 40,
         "r": 40,
         "t": 40
        },
        "template": {
         "data": {
          "bar": [
           {
            "error_x": {
             "color": "#2a3f5f"
            },
            "error_y": {
             "color": "#2a3f5f"
            },
            "marker": {
             "line": {
              "color": "#E5ECF6",
              "width": 0.5
             },
             "pattern": {
              "fillmode": "overlay",
              "size": 10,
              "solidity": 0.2
             }
            },
            "type": "bar"
           }
          ],
          "barpolar": [
           {
            "marker": {
             "line": {
              "color": "#E5ECF6",
              "width": 0.5
             },
             "pattern": {
              "fillmode": "overlay",
              "size": 10,
              "solidity": 0.2
             }
            },
            "type": "barpolar"
           }
          ],
          "carpet": [
           {
            "aaxis": {
             "endlinecolor": "#2a3f5f",
             "gridcolor": "white",
             "linecolor": "white",
             "minorgridcolor": "white",
             "startlinecolor": "#2a3f5f"
            },
            "baxis": {
             "endlinecolor": "#2a3f5f",
             "gridcolor": "white",
             "linecolor": "white",
             "minorgridcolor": "white",
             "startlinecolor": "#2a3f5f"
            },
            "type": "carpet"
           }
          ],
          "choropleth": [
           {
            "colorbar": {
             "outlinewidth": 0,
             "ticks": ""
            },
            "type": "choropleth"
           }
          ],
          "contour": [
           {
            "colorbar": {
             "outlinewidth": 0,
             "ticks": ""
            },
            "colorscale": [
             [
              0,
              "#0d0887"
             ],
             [
              0.1111111111111111,
              "#46039f"
             ],
             [
              0.2222222222222222,
              "#7201a8"
             ],
             [
              0.3333333333333333,
              "#9c179e"
             ],
             [
              0.4444444444444444,
              "#bd3786"
             ],
             [
              0.5555555555555556,
              "#d8576b"
             ],
             [
              0.6666666666666666,
              "#ed7953"
             ],
             [
              0.7777777777777778,
              "#fb9f3a"
             ],
             [
              0.8888888888888888,
              "#fdca26"
             ],
             [
              1,
              "#f0f921"
             ]
            ],
            "type": "contour"
           }
          ],
          "contourcarpet": [
           {
            "colorbar": {
             "outlinewidth": 0,
             "ticks": ""
            },
            "type": "contourcarpet"
           }
          ],
          "heatmap": [
           {
            "colorbar": {
             "outlinewidth": 0,
             "ticks": ""
            },
            "colorscale": [
             [
              0,
              "#0d0887"
             ],
             [
              0.1111111111111111,
              "#46039f"
             ],
             [
              0.2222222222222222,
              "#7201a8"
             ],
             [
              0.3333333333333333,
              "#9c179e"
             ],
             [
              0.4444444444444444,
              "#bd3786"
             ],
             [
              0.5555555555555556,
              "#d8576b"
             ],
             [
              0.6666666666666666,
              "#ed7953"
             ],
             [
              0.7777777777777778,
              "#fb9f3a"
             ],
             [
              0.8888888888888888,
              "#fdca26"
             ],
             [
              1,
              "#f0f921"
             ]
            ],
            "type": "heatmap"
           }
          ],
          "heatmapgl": [
           {
            "colorbar": {
             "outlinewidth": 0,
             "ticks": ""
            },
            "colorscale": [
             [
              0,
              "#0d0887"
             ],
             [
              0.1111111111111111,
              "#46039f"
             ],
             [
              0.2222222222222222,
              "#7201a8"
             ],
             [
              0.3333333333333333,
              "#9c179e"
             ],
             [
              0.4444444444444444,
              "#bd3786"
             ],
             [
              0.5555555555555556,
              "#d8576b"
             ],
             [
              0.6666666666666666,
              "#ed7953"
             ],
             [
              0.7777777777777778,
              "#fb9f3a"
             ],
             [
              0.8888888888888888,
              "#fdca26"
             ],
             [
              1,
              "#f0f921"
             ]
            ],
            "type": "heatmapgl"
           }
          ],
          "histogram": [
           {
            "marker": {
             "pattern": {
              "fillmode": "overlay",
              "size": 10,
              "solidity": 0.2
             }
            },
            "type": "histogram"
           }
          ],
          "histogram2d": [
           {
            "colorbar": {
             "outlinewidth": 0,
             "ticks": ""
            },
            "colorscale": [
             [
              0,
              "#0d0887"
             ],
             [
              0.1111111111111111,
              "#46039f"
             ],
             [
              0.2222222222222222,
              "#7201a8"
             ],
             [
              0.3333333333333333,
              "#9c179e"
             ],
             [
              0.4444444444444444,
              "#bd3786"
             ],
             [
              0.5555555555555556,
              "#d8576b"
             ],
             [
              0.6666666666666666,
              "#ed7953"
             ],
             [
              0.7777777777777778,
              "#fb9f3a"
             ],
             [
              0.8888888888888888,
              "#fdca26"
             ],
             [
              1,
              "#f0f921"
             ]
            ],
            "type": "histogram2d"
           }
          ],
          "histogram2dcontour": [
           {
            "colorbar": {
             "outlinewidth": 0,
             "ticks": ""
            },
            "colorscale": [
             [
              0,
              "#0d0887"
             ],
             [
              0.1111111111111111,
              "#46039f"
             ],
             [
              0.2222222222222222,
              "#7201a8"
             ],
             [
              0.3333333333333333,
              "#9c179e"
             ],
             [
              0.4444444444444444,
              "#bd3786"
             ],
             [
              0.5555555555555556,
              "#d8576b"
             ],
             [
              0.6666666666666666,
              "#ed7953"
             ],
             [
              0.7777777777777778,
              "#fb9f3a"
             ],
             [
              0.8888888888888888,
              "#fdca26"
             ],
             [
              1,
              "#f0f921"
             ]
            ],
            "type": "histogram2dcontour"
           }
          ],
          "mesh3d": [
           {
            "colorbar": {
             "outlinewidth": 0,
             "ticks": ""
            },
            "type": "mesh3d"
           }
          ],
          "parcoords": [
           {
            "line": {
             "colorbar": {
              "outlinewidth": 0,
              "ticks": ""
             }
            },
            "type": "parcoords"
           }
          ],
          "pie": [
           {
            "automargin": true,
            "type": "pie"
           }
          ],
          "scatter": [
           {
            "fillpattern": {
             "fillmode": "overlay",
             "size": 10,
             "solidity": 0.2
            },
            "type": "scatter"
           }
          ],
          "scatter3d": [
           {
            "line": {
             "colorbar": {
              "outlinewidth": 0,
              "ticks": ""
             }
            },
            "marker": {
             "colorbar": {
              "outlinewidth": 0,
              "ticks": ""
             }
            },
            "type": "scatter3d"
           }
          ],
          "scattercarpet": [
           {
            "marker": {
             "colorbar": {
              "outlinewidth": 0,
              "ticks": ""
             }
            },
            "type": "scattercarpet"
           }
          ],
          "scattergeo": [
           {
            "marker": {
             "colorbar": {
              "outlinewidth": 0,
              "ticks": ""
             }
            },
            "type": "scattergeo"
           }
          ],
          "scattergl": [
           {
            "marker": {
             "colorbar": {
              "outlinewidth": 0,
              "ticks": ""
             }
            },
            "type": "scattergl"
           }
          ],
          "scattermapbox": [
           {
            "marker": {
             "colorbar": {
              "outlinewidth": 0,
              "ticks": ""
             }
            },
            "type": "scattermapbox"
           }
          ],
          "scatterpolar": [
           {
            "marker": {
             "colorbar": {
              "outlinewidth": 0,
              "ticks": ""
             }
            },
            "type": "scatterpolar"
           }
          ],
          "scatterpolargl": [
           {
            "marker": {
             "colorbar": {
              "outlinewidth": 0,
              "ticks": ""
             }
            },
            "type": "scatterpolargl"
           }
          ],
          "scatterternary": [
           {
            "marker": {
             "colorbar": {
              "outlinewidth": 0,
              "ticks": ""
             }
            },
            "type": "scatterternary"
           }
          ],
          "surface": [
           {
            "colorbar": {
             "outlinewidth": 0,
             "ticks": ""
            },
            "colorscale": [
             [
              0,
              "#0d0887"
             ],
             [
              0.1111111111111111,
              "#46039f"
             ],
             [
              0.2222222222222222,
              "#7201a8"
             ],
             [
              0.3333333333333333,
              "#9c179e"
             ],
             [
              0.4444444444444444,
              "#bd3786"
             ],
             [
              0.5555555555555556,
              "#d8576b"
             ],
             [
              0.6666666666666666,
              "#ed7953"
             ],
             [
              0.7777777777777778,
              "#fb9f3a"
             ],
             [
              0.8888888888888888,
              "#fdca26"
             ],
             [
              1,
              "#f0f921"
             ]
            ],
            "type": "surface"
           }
          ],
          "table": [
           {
            "cells": {
             "fill": {
              "color": "#EBF0F8"
             },
             "line": {
              "color": "white"
             }
            },
            "header": {
             "fill": {
              "color": "#C8D4E3"
             },
             "line": {
              "color": "white"
             }
            },
            "type": "table"
           }
          ]
         },
         "layout": {
          "annotationdefaults": {
           "arrowcolor": "#2a3f5f",
           "arrowhead": 0,
           "arrowwidth": 1
          },
          "autotypenumbers": "strict",
          "coloraxis": {
           "colorbar": {
            "outlinewidth": 0,
            "ticks": ""
           }
          },
          "colorscale": {
           "diverging": [
            [
             0,
             "#8e0152"
            ],
            [
             0.1,
             "#c51b7d"
            ],
            [
             0.2,
             "#de77ae"
            ],
            [
             0.3,
             "#f1b6da"
            ],
            [
             0.4,
             "#fde0ef"
            ],
            [
             0.5,
             "#f7f7f7"
            ],
            [
             0.6,
             "#e6f5d0"
            ],
            [
             0.7,
             "#b8e186"
            ],
            [
             0.8,
             "#7fbc41"
            ],
            [
             0.9,
             "#4d9221"
            ],
            [
             1,
             "#276419"
            ]
           ],
           "sequential": [
            [
             0,
             "#0d0887"
            ],
            [
             0.1111111111111111,
             "#46039f"
            ],
            [
             0.2222222222222222,
             "#7201a8"
            ],
            [
             0.3333333333333333,
             "#9c179e"
            ],
            [
             0.4444444444444444,
             "#bd3786"
            ],
            [
             0.5555555555555556,
             "#d8576b"
            ],
            [
             0.6666666666666666,
             "#ed7953"
            ],
            [
             0.7777777777777778,
             "#fb9f3a"
            ],
            [
             0.8888888888888888,
             "#fdca26"
            ],
            [
             1,
             "#f0f921"
            ]
           ],
           "sequentialminus": [
            [
             0,
             "#0d0887"
            ],
            [
             0.1111111111111111,
             "#46039f"
            ],
            [
             0.2222222222222222,
             "#7201a8"
            ],
            [
             0.3333333333333333,
             "#9c179e"
            ],
            [
             0.4444444444444444,
             "#bd3786"
            ],
            [
             0.5555555555555556,
             "#d8576b"
            ],
            [
             0.6666666666666666,
             "#ed7953"
            ],
            [
             0.7777777777777778,
             "#fb9f3a"
            ],
            [
             0.8888888888888888,
             "#fdca26"
            ],
            [
             1,
             "#f0f921"
            ]
           ]
          },
          "colorway": [
           "#636efa",
           "#EF553B",
           "#00cc96",
           "#ab63fa",
           "#FFA15A",
           "#19d3f3",
           "#FF6692",
           "#B6E880",
           "#FF97FF",
           "#FECB52"
          ],
          "font": {
           "color": "#2a3f5f"
          },
          "geo": {
           "bgcolor": "white",
           "lakecolor": "white",
           "landcolor": "#E5ECF6",
           "showlakes": true,
           "showland": true,
           "subunitcolor": "white"
          },
          "hoverlabel": {
           "align": "left"
          },
          "hovermode": "closest",
          "mapbox": {
           "style": "light"
          },
          "paper_bgcolor": "white",
          "plot_bgcolor": "#E5ECF6",
          "polar": {
           "angularaxis": {
            "gridcolor": "white",
            "linecolor": "white",
            "ticks": ""
           },
           "bgcolor": "#E5ECF6",
           "radialaxis": {
            "gridcolor": "white",
            "linecolor": "white",
            "ticks": ""
           }
          },
          "scene": {
           "xaxis": {
            "backgroundcolor": "#E5ECF6",
            "gridcolor": "white",
            "gridwidth": 2,
            "linecolor": "white",
            "showbackground": true,
            "ticks": "",
            "zerolinecolor": "white"
           },
           "yaxis": {
            "backgroundcolor": "#E5ECF6",
            "gridcolor": "white",
            "gridwidth": 2,
            "linecolor": "white",
            "showbackground": true,
            "ticks": "",
            "zerolinecolor": "white"
           },
           "zaxis": {
            "backgroundcolor": "#E5ECF6",
            "gridcolor": "white",
            "gridwidth": 2,
            "linecolor": "white",
            "showbackground": true,
            "ticks": "",
            "zerolinecolor": "white"
           }
          },
          "shapedefaults": {
           "line": {
            "color": "#2a3f5f"
           }
          },
          "ternary": {
           "aaxis": {
            "gridcolor": "white",
            "linecolor": "white",
            "ticks": ""
           },
           "baxis": {
            "gridcolor": "white",
            "linecolor": "white",
            "ticks": ""
           },
           "bgcolor": "#E5ECF6",
           "caxis": {
            "gridcolor": "white",
            "linecolor": "white",
            "ticks": ""
           }
          },
          "title": {
           "x": 0.05
          },
          "xaxis": {
           "automargin": true,
           "gridcolor": "white",
           "linecolor": "white",
           "ticks": "",
           "title": {
            "standoff": 15
           },
           "zerolinecolor": "white",
           "zerolinewidth": 2
          },
          "yaxis": {
           "automargin": true,
           "gridcolor": "white",
           "linecolor": "white",
           "ticks": "",
           "title": {
            "standoff": 15
           },
           "zerolinecolor": "white",
           "zerolinewidth": 2
          }
         }
        },
        "title": {
         "text": "colC Distribution"
        }
       }
      },
      "image/png": "[encoded data removed]",
      "text/html": [
       "<div>                            <div id=\"595d7732-d851-461b-b6d8-50e9fb86900e\" class=\"plotly-graph-div\" style=\"height:525px; width:100%;\"></div>            <script type=\"text/javascript\">                require([\"plotly\"], function(Plotly) {                    window.PLOTLYENV=window.PLOTLYENV || {};                                    if (document.getElementById(\"595d7732-d851-461b-b6d8-50e9fb86900e\")) {                    Plotly.newPlot(                        \"595d7732-d851-461b-b6d8-50e9fb86900e\",                        [{\"lat\":[53.540725,50.7431,52.3908,49.4403,52.5123],\"lon\":[10.105975,7.059,13.0645,11.0809,13.4394],\"marker\":{\"color\":[1,3,2,3,4]},\"mode\":\"markers\",\"text\":[\"val1\",\"val2\",\"val3\",\"val2\",\"val2\"],\"type\":\"scattergeo\"}],                        {\"template\":{\"data\":{\"histogram2dcontour\":[{\"type\":\"histogram2dcontour\",\"colorbar\":{\"outlinewidth\":0,\"ticks\":\"\"},\"colorscale\":[[0.0,\"#0d0887\"],[0.1111111111111111,\"#46039f\"],[0.2222222222222222,\"#7201a8\"],[0.3333333333333333,\"#9c179e\"],[0.4444444444444444,\"#bd3786\"],[0.5555555555555556,\"#d8576b\"],[0.6666666666666666,\"#ed7953\"],[0.7777777777777778,\"#fb9f3a\"],[0.8888888888888888,\"#fdca26\"],[1.0,\"#f0f921\"]]}],\"choropleth\":[{\"type\":\"choropleth\",\"colorbar\":{\"outlinewidth\":0,\"ticks\":\"\"}}],\"histogram2d\":[{\"type\":\"histogram2d\",\"colorbar\":{\"outlinewidth\":0,\"ticks\":\"\"},\"colorscale\":[[0.0,\"#0d0887\"],[0.1111111111111111,\"#46039f\"],[0.2222222222222222,\"#7201a8\"],[0.3333333333333333,\"#9c179e\"],[0.4444444444444444,\"#bd3786\"],[0.5555555555555556,\"#d8576b\"],[0.6666666666666666,\"#ed7953\"],[0.7777777777777778,\"#fb9f3a\"],[0.8888888888888888,\"#fdca26\"],[1.0,\"#f0f921\"]]}],\"heatmap\":[{\"type\":\"heatmap\",\"colorbar\":{\"outlinewidth\":0,\"ticks\":\"\"},\"colorscale\":[[0.0,\"#0d0887\"],[0.1111111111111111,\"#46039f\"],[0.2222222222222222,\"#7201a8\"],[0.3333333333333333,\"#9c179e\"],[0.4444444444444444,\"#bd3786\"],[0.5555555555555556,\"#d8576b\"],[0.6666666666666666,\"#ed7953\"],[0.7777777777777778,\"#fb9f3a\"],[0.8888888888888888,\"#fdca26\"],[1.0,\"#f0f921\"]]}],\"heatmapgl\":[{\"type\":\"heatmapgl\",\"colorbar\":{\"outlinewidth\":0,\"ticks\":\"\"},\"colorscale\":[[0.0,\"#0d0887\"],[0.1111111111111111,\"#46039f\"],[0.2222222222222222,\"#7201a8\"],[0.3333333333333333,\"#9c179e\"],[0.4444444444444444,\"#bd3786\"],[0.5555555555555556,\"#d8576b\"],[0.6666666666666666,\"#ed7953\"],[0.7777777777777778,\"#fb9f3a\"],[0.8888888888888888,\"#fdca26\"],[1.0,\"#f0f921\"]]}],\"contourcarpet\":[{\"type\":\"contourcarpet\",\"colorbar\":{\"outlinewidth\":0,\"ticks\":\"\"}}],\"contour\":[{\"type\":\"contour\",\"colorbar\":{\"outlinewidth\":0,\"ticks\":\"\"},\"colorscale\":[[0.0,\"#0d0887\"],[0.1111111111111111,\"#46039f\"],[0.2222222222222222,\"#7201a8\"],[0.3333333333333333,\"#9c179e\"],[0.4444444444444444,\"#bd3786\"],[0.5555555555555556,\"#d8576b\"],[0.6666666666666666,\"#ed7953\"],[0.7777777777777778,\"#fb9f3a\"],[0.8888888888888888,\"#fdca26\"],[1.0,\"#f0f921\"]]}],\"surface\":[{\"type\":\"surface\",\"colorbar\":{\"outlinewidth\":0,\"ticks\":\"\"},\"colorscale\":[[0.0,\"#0d0887\"],[0.1111111111111111,\"#46039f\"],[0.2222222222222222,\"#7201a8\"],[0.3333333333333333,\"#9c179e\"],[0.4444444444444444,\"#bd3786\"],[0.5555555555555556,\"#d8576b\"],[0.6666666666666666,\"#ed7953\"],[0.7777777777777778,\"#fb9f3a\"],[0.8888888888888888,\"#fdca26\"],[1.0,\"#f0f921\"]]}],\"mesh3d\":[{\"type\":\"mesh3d\",\"colorbar\":{\"outlinewidth\":0,\"ticks\":\"\"}}],\"scatter\":[{\"fillpattern\":{\"fillmode\":\"overlay\",\"size\":10,\"solidity\":0.2},\"type\":\"scatter\"}],\"parcoords\":[{\"type\":\"parcoords\",\"line\":{\"colorbar\":{\"outlinewidth\":0,\"ticks\":\"\"}}}],\"scatterpolargl\":[{\"type\":\"scatterpolargl\",\"marker\":{\"colorbar\":{\"outlinewidth\":0,\"ticks\":\"\"}}}],\"bar\":[{\"error_x\":{\"color\":\"#2a3f5f\"},\"error_y\":{\"color\":\"#2a3f5f\"},\"marker\":{\"line\":{\"color\":\"#E5ECF6\",\"width\":0.5},\"pattern\":{\"fillmode\":\"overlay\",\"size\":10,\"solidity\":0.2}},\"type\":\"bar\"}],\"scattergeo\":[{\"type\":\"scattergeo\",\"marker\":{\"colorbar\":{\"outlinewidth\":0,\"ticks\":\"\"}}}],\"scatterpolar\":[{\"type\":\"scatterpolar\",\"marker\":{\"colorbar\":{\"outlinewidth\":0,\"ticks\":\"\"}}}],\"histogram\":[{\"marker\":{\"pattern\":{\"fillmode\":\"overlay\",\"size\":10,\"solidity\":0.2}},\"type\":\"histogram\"}],\"scattergl\":[{\"type\":\"scattergl\",\"marker\":{\"colorbar\":{\"outlinewidth\":0,\"ticks\":\"\"}}}],\"scatter3d\":[{\"type\":\"scatter3d\",\"line\":{\"colorbar\":{\"outlinewidth\":0,\"ticks\":\"\"}},\"marker\":{\"colorbar\":{\"outlinewidth\":0,\"ticks\":\"\"}}}],\"scattermapbox\":[{\"type\":\"scattermapbox\",\"marker\":{\"colorbar\":{\"outlinewidth\":0,\"ticks\":\"\"}}}],\"scatterternary\":[{\"type\":\"scatterternary\",\"marker\":{\"colorbar\":{\"outlinewidth\":0,\"ticks\":\"\"}}}],\"scattercarpet\":[{\"type\":\"scattercarpet\",\"marker\":{\"colorbar\":{\"outlinewidth\":0,\"ticks\":\"\"}}}],\"carpet\":[{\"aaxis\":{\"endlinecolor\":\"#2a3f5f\",\"gridcolor\":\"white\",\"linecolor\":\"white\",\"minorgridcolor\":\"white\",\"startlinecolor\":\"#2a3f5f\"},\"baxis\":{\"endlinecolor\":\"#2a3f5f\",\"gridcolor\":\"white\",\"linecolor\":\"white\",\"minorgridcolor\":\"white\",\"startlinecolor\":\"#2a3f5f\"},\"type\":\"carpet\"}],\"table\":[{\"cells\":{\"fill\":{\"color\":\"#EBF0F8\"},\"line\":{\"color\":\"white\"}},\"header\":{\"fill\":{\"color\":\"#C8D4E3\"},\"line\":{\"color\":\"white\"}},\"type\":\"table\"}],\"barpolar\":[{\"marker\":{\"line\":{\"color\":\"#E5ECF6\",\"width\":0.5},\"pattern\":{\"fillmode\":\"overlay\",\"size\":10,\"solidity\":0.2}},\"type\":\"barpolar\"}],\"pie\":[{\"automargin\":true,\"type\":\"pie\"}]},\"layout\":{\"autotypenumbers\":\"strict\",\"colorway\":[\"#636efa\",\"#EF553B\",\"#00cc96\",\"#ab63fa\",\"#FFA15A\",\"#19d3f3\",\"#FF6692\",\"#B6E880\",\"#FF97FF\",\"#FECB52\"],\"font\":{\"color\":\"#2a3f5f\"},\"hovermode\":\"closest\",\"hoverlabel\":{\"align\":\"left\"},\"paper_bgcolor\":\"white\",\"plot_bgcolor\":\"#E5ECF6\",\"polar\":{\"bgcolor\":\"#E5ECF6\",\"angularaxis\":{\"gridcolor\":\"white\",\"linecolor\":\"white\",\"ticks\":\"\"},\"radialaxis\":{\"gridcolor\":\"white\",\"linecolor\":\"white\",\"ticks\":\"\"}},\"ternary\":{\"bgcolor\":\"#E5ECF6\",\"aaxis\":{\"gridcolor\":\"white\",\"linecolor\":\"white\",\"ticks\":\"\"},\"baxis\":{\"gridcolor\":\"white\",\"linecolor\":\"white\",\"ticks\":\"\"},\"caxis\":{\"gridcolor\":\"white\",\"linecolor\":\"white\",\"ticks\":\"\"}},\"coloraxis\":{\"colorbar\":{\"outlinewidth\":0,\"ticks\":\"\"}},\"colorscale\":{\"sequential\":[[0.0,\"#0d0887\"],[0.1111111111111111,\"#46039f\"],[0.2222222222222222,\"#7201a8\"],[0.3333333333333333,\"#9c179e\"],[0.4444444444444444,\"#bd3786\"],[0.5555555555555556,\"#d8576b\"],[0.6666666666666666,\"#ed7953\"],[0.7777777777777778,\"#fb9f3a\"],[0.8888888888888888,\"#fdca26\"],[1.0,\"#f0f921\"]],\"sequentialminus\":[[0.0,\"#0d0887\"],[0.1111111111111111,\"#46039f\"],[0.2222222222222222,\"#7201a8\"],[0.3333333333333333,\"#9c179e\"],[0.4444444444444444,\"#bd3786\"],[0.5555555555555556,\"#d8576b\"],[0.6666666666666666,\"#ed7953\"],[0.7777777777777778,\"#fb9f3a\"],[0.8888888888888888,\"#fdca26\"],[1.0,\"#f0f921\"]],\"diverging\":[[0,\"#8e0152\"],[0.1,\"#c51b7d\"],[0.2,\"#de77ae\"],[0.3,\"#f1b6da\"],[0.4,\"#fde0ef\"],[0.5,\"#f7f7f7\"],[0.6,\"#e6f5d0\"],[0.7,\"#b8e186\"],[0.8,\"#7fbc41\"],[0.9,\"#4d9221\"],[1,\"#276419\"]]},\"xaxis\":{\"gridcolor\":\"white\",\"linecolor\":\"white\",\"ticks\":\"\",\"title\":{\"standoff\":15},\"zerolinecolor\":\"white\",\"automargin\":true,\"zerolinewidth\":2},\"yaxis\":{\"gridcolor\":\"white\",\"linecolor\":\"white\",\"ticks\":\"\",\"title\":{\"standoff\":15},\"zerolinecolor\":\"white\",\"automargin\":true,\"zerolinewidth\":2},\"scene\":{\"xaxis\":{\"backgroundcolor\":\"#E5ECF6\",\"gridcolor\":\"white\",\"linecolor\":\"white\",\"showbackground\":true,\"ticks\":\"\",\"zerolinecolor\":\"white\",\"gridwidth\":2},\"yaxis\":{\"backgroundcolor\":\"#E5ECF6\",\"gridcolor\":\"white\",\"linecolor\":\"white\",\"showbackground\":true,\"ticks\":\"\",\"zerolinecolor\":\"white\",\"gridwidth\":2},\"zaxis\":{\"backgroundcolor\":\"#E5ECF6\",\"gridcolor\":\"white\",\"linecolor\":\"white\",\"showbackground\":true,\"ticks\":\"\",\"zerolinecolor\":\"white\",\"gridwidth\":2}},\"shapedefaults\":{\"line\":{\"color\":\"#2a3f5f\"}},\"annotationdefaults\":{\"arrowcolor\":\"#2a3f5f\",\"arrowhead\":0,\"arrowwidth\":1},\"geo\":{\"bgcolor\":\"white\",\"landcolor\":\"#E5ECF6\",\"subunitcolor\":\"white\",\"showland\":true,\"showlakes\":true,\"lakecolor\":\"white\"},\"title\":{\"x\":0.05},\"mapbox\":{\"style\":\"light\"}}},\"geo\":{\"scope\":\"europe\"},\"margin\":{\"l\":40,\"r\":40,\"t\":40,\"b\":40},\"title\":{\"text\":\"colC Distribution\"}},                        {\"responsive\": true}                    ).then(function(){\n",
       "                            \n",
       "var gd = document.getElementById('595d7732-d851-461b-b6d8-50e9fb86900e');\n",
       "var x = new MutationObserver(function (mutations, observer) {{\n",
       "        var display = window.getComputedStyle(gd).display;\n",
       "        if (!display || display === 'none') {{\n",
       "            console.log([gd, 'removed!']);\n",
       "            Plotly.purge(gd);\n",
       "            observer.disconnect();\n",
       "        }}\n",
       "}});\n",
       "\n",
       "// Listen for the removal of the full notebook cells\n",
       "var notebookContainer = gd.closest('#notebook-container');\n",
       "if (notebookContainer) {{\n",
       "    x.observe(notebookContainer, {childList: true});\n",
       "}}\n",
       "\n",
       "// Listen for the clearing of the current output cell\n",
       "var outputEl = gd.closest('.output');\n",
       "if (outputEl) {{\n",
       "    x.observe(outputEl, {childList: true});\n",
       "}}\n",
       "\n",
       "                        })                };                });            </script>        </div>"
      ]
     },
     "metadata": {},
     "output_type": "display_data"
    }
   ],
   "source": [
    "pip install pgeocode\n",
    "import pandas as pd\n",
    "import pandas_bokeh\n",
    "import matplotlib.pyplot as plt\n",
    "import pgeocode\n",
    "import geopandas as gpd\n",
    "from shapely.geometry import Point\n",
    "from geopandas import GeoDataFrame\n",
    "\n",
    "import plotly.graph_objects as go\n",
    "## Adding some dummy data \n",
    "nomi = pgeocode.Nominatim('de')\n",
    "d = {'colC': ['val1','val2','val3','val2','val2'], 'zipcode': ['22111','53119','14473','90459', '10243'],'count':[1,3,2,3,4]}\n",
    "edf = pd.DataFrame(data=d)\n",
    "edf\n",
    "edf['Latitude'] = (nomi.query_postal_code(edf['zipcode'].tolist()).latitude)\n",
    "edf['Longitude'] = (nomi.query_postal_code(edf['zipcode'].tolist()).longitude)\n",
    "fig = go.Figure(data=go.Scattergeo(\n",
    "        lon = edf['Longitude'],\n",
    "        lat = edf['Latitude'],\n",
    "        text = edf['colC'],\n",
    "        mode = 'markers',\n",
    "        marker_color = edf['count']\n",
    "        ))\n",
    "\n",
    "fig.update_layout(\n",
    "        title = 'colC Distribution',\n",
    "        geo_scope='europe',\n",
    "    margin=dict(l=40, r=40, t=40, b=40)\n",
    "    )\n",
    "fig.show()"
   ]
  },
  {
   "cell_type": "code",
   "execution_count": 40,
   "id": "25dd6f28-1c66-4bc2-bc05-7e926614fce3",
   "metadata": {},
   "outputs": [
    {
     "data": {
      "image/png": "[encoded data removed]",
      "text/plain": [
       "<Figure size 1000x500 with 1 Axes>"
      ]
     },
     "metadata": {},
     "output_type": "display_data"
    }
   ],
   "source": [
    "group_country=df.groupby(['country_code'], as_index=True)['claims_amount'].sum()\n",
    "group_country=group_country.reset_index()\n",
    "fig, ax = plt.subplots(figsize=(10,5))\n",
    "ax=sns.barplot(data=group_country, x=\"country_code\", y=\"claims_amount\",color='gray')\n",
    "ax.set_ylabel('Claimed amount in million euro ')    \n",
    "ax.set_xlabel('Country')\n",
    "plt.show()"
   ]
  },
  {
   "cell_type": "code",
   "execution_count": 43,
   "id": "5ad1b7b5-7759-4834-af11-36b925a0da44",
   "metadata": {},
   "outputs": [
    {
     "name": "stderr",
     "output_type": "stream",
     "text": [
      "/tmp/ipykernel_1796/2422056830.py:2: SettingWithCopyWarning:\n",
      "\n",
      "\n",
      "A value is trying to be set on a copy of a slice from a DataFrame.\n",
      "Try using .loc[row_indexer,col_indexer] = value instead\n",
      "\n",
      "See the caveats in the documentation: https://pandas.pydata.org/pandas-docs/stable/user_guide/indexing.html#returning-a-view-versus-a-copy\n",
      "\n"
     ]
    },
    {
     "data": {
      "text/html": [
       "<div>\n",
       "<style scoped>\n",
       "    .dataframe tbody tr th:only-of-type {\n",
       "        vertical-align: middle;\n",
       "    }\n",
       "\n",
       "    .dataframe tbody tr th {\n",
       "        vertical-align: top;\n",
       "    }\n",
       "\n",
       "    .dataframe thead th {\n",
       "        text-align: right;\n",
       "    }\n",
       "</style>\n",
       "<table border=\"1\" class=\"dataframe\">\n",
       "  <thead>\n",
       "    <tr style=\"text-align: right;\">\n",
       "      <th></th>\n",
       "      <th>sk_month</th>\n",
       "      <th>carriers</th>\n",
       "      <th>claims_amount</th>\n",
       "      <th>number_of_claims</th>\n",
       "    </tr>\n",
       "  </thead>\n",
       "  <tbody>\n",
       "    <tr>\n",
       "      <th>0</th>\n",
       "      <td>202201</td>\n",
       "      <td>HERMES</td>\n",
       "      <td>184483.47</td>\n",
       "      <td>1739</td>\n",
       "    </tr>\n",
       "    <tr>\n",
       "      <th>1</th>\n",
       "      <td>202202</td>\n",
       "      <td>HERMES</td>\n",
       "      <td>170804.89</td>\n",
       "      <td>1031</td>\n",
       "    </tr>\n",
       "    <tr>\n",
       "      <th>2</th>\n",
       "      <td>202203</td>\n",
       "      <td>HERMES</td>\n",
       "      <td>195688.29</td>\n",
       "      <td>1319</td>\n",
       "    </tr>\n",
       "    <tr>\n",
       "      <th>3</th>\n",
       "      <td>202204</td>\n",
       "      <td>HERMES</td>\n",
       "      <td>174781.77</td>\n",
       "      <td>1290</td>\n",
       "    </tr>\n",
       "    <tr>\n",
       "      <th>4</th>\n",
       "      <td>202205</td>\n",
       "      <td>HERMES</td>\n",
       "      <td>125753.72</td>\n",
       "      <td>1076</td>\n",
       "    </tr>\n",
       "    <tr>\n",
       "      <th>5</th>\n",
       "      <td>202206</td>\n",
       "      <td>HERMES</td>\n",
       "      <td>162336.92</td>\n",
       "      <td>1337</td>\n",
       "    </tr>\n",
       "    <tr>\n",
       "      <th>6</th>\n",
       "      <td>202207</td>\n",
       "      <td>HERMES</td>\n",
       "      <td>114614.48</td>\n",
       "      <td>1188</td>\n",
       "    </tr>\n",
       "    <tr>\n",
       "      <th>7</th>\n",
       "      <td>202208</td>\n",
       "      <td>HERMES</td>\n",
       "      <td>84030.51</td>\n",
       "      <td>826</td>\n",
       "    </tr>\n",
       "    <tr>\n",
       "      <th>8</th>\n",
       "      <td>202209</td>\n",
       "      <td>HERMES</td>\n",
       "      <td>113042.18</td>\n",
       "      <td>900</td>\n",
       "    </tr>\n",
       "    <tr>\n",
       "      <th>9</th>\n",
       "      <td>202210</td>\n",
       "      <td>HERMES</td>\n",
       "      <td>177447.16</td>\n",
       "      <td>1480</td>\n",
       "    </tr>\n",
       "    <tr>\n",
       "      <th>10</th>\n",
       "      <td>202211</td>\n",
       "      <td>HERMES</td>\n",
       "      <td>200041.85</td>\n",
       "      <td>1922</td>\n",
       "    </tr>\n",
       "    <tr>\n",
       "      <th>11</th>\n",
       "      <td>202211</td>\n",
       "      <td>YODEL</td>\n",
       "      <td>43150.65</td>\n",
       "      <td>444</td>\n",
       "    </tr>\n",
       "    <tr>\n",
       "      <th>12</th>\n",
       "      <td>202212</td>\n",
       "      <td>HERMES</td>\n",
       "      <td>211680.11</td>\n",
       "      <td>2294</td>\n",
       "    </tr>\n",
       "    <tr>\n",
       "      <th>13</th>\n",
       "      <td>202212</td>\n",
       "      <td>YODEL</td>\n",
       "      <td>54557.35</td>\n",
       "      <td>545</td>\n",
       "    </tr>\n",
       "  </tbody>\n",
       "</table>\n",
       "</div>"
      ],
      "text/plain": [
       "    sk_month carriers  claims_amount  number_of_claims\n",
       "0     202201   HERMES      184483.47              1739\n",
       "1     202202   HERMES      170804.89              1031\n",
       "2     202203   HERMES      195688.29              1319\n",
       "3     202204   HERMES      174781.77              1290\n",
       "4     202205   HERMES      125753.72              1076\n",
       "5     202206   HERMES      162336.92              1337\n",
       "6     202207   HERMES      114614.48              1188\n",
       "7     202208   HERMES       84030.51               826\n",
       "8     202209   HERMES      113042.18               900\n",
       "9     202210   HERMES      177447.16              1480\n",
       "10    202211   HERMES      200041.85              1922\n",
       "11    202211    YODEL       43150.65               444\n",
       "12    202212   HERMES      211680.11              2294\n",
       "13    202212    YODEL       54557.35               545"
      ]
     },
     "execution_count": 43,
     "metadata": {},
     "output_type": "execute_result"
    }
   ],
   "source": [
    "group_country_uk=df[df['country_code']=='GB']\n",
    "group_country_uk['carriers'] = group_country_uk.loc[:,('carrier')].apply(lambda x: 'Hermes' if x in ('HERMES','HMS')   else 'YODEL')\n",
    "group_country_uk=group_country_uk.groupby(['sk_month','carriers'], as_index=True).agg({'claims_amount':sum,'number_of_claims':sum})\n",
    "group_country_uk=group_country_uk.reset_index()\n",
    "\n",
    "group_country_uk['carriers'] =group_country_uk['carriers'].str.upper()\n",
    "group_country_uk"
   ]
  },
  {
   "cell_type": "code",
   "execution_count": null,
   "id": "9a66e975-ad68-4709-969b-4718f1fd79e7",
   "metadata": {},
   "outputs": [],
   "source": []
  },
  {
   "cell_type": "code",
   "execution_count": 44,
   "id": "330ee742-1a23-438f-8664-b2060d744e1f",
   "metadata": {},
   "outputs": [
    {
     "data": {
      "image/png": "[encoded data removed]",
      "text/plain": [
       "<Figure size 1000x500 with 1 Axes>"
      ]
     },
     "metadata": {},
     "output_type": "display_data"
    }
   ],
   "source": [
    "group_country_uk['sk_month']=group_country_uk['sk_month'].astype(str)\n",
    "fig, ax = plt.subplots(figsize=(10,5))\n",
    "\n",
    "ax=sns.barplot(data=group_country_uk, x=\"sk_month\", y=\"number_of_claims\",palette=[\"orange\", \"gray\"],hue='carriers',errorbar=None)\n",
    "ax.set_ylabel('Number of Claims ')    \n",
    "ax.set_xlabel('Month')\n",
    "plt.legend(bbox_to_anchor=(1.02, 1), loc='upper left', borderaxespad=0)\n",
    "ax.bar_label(ax.containers[0], label_type='edge')\n",
    "plt.show()"
   ]
  },
  {
   "cell_type": "code",
   "execution_count": 45,
   "id": "e225b8b2-e90b-4481-8383-95ad30d47b09",
   "metadata": {},
   "outputs": [
    {
     "name": "stderr",
     "output_type": "stream",
     "text": [
      "/tmp/ipykernel_1796/1960551015.py:163: UserWarning:\n",
      "\n",
      "pandas only supports SQLAlchemy connectable (engine/connection) or database string URI or sqlite3 DBAPI2 connection. Other DBAPI2 objects are not tested. Please consider using SQLAlchemy.\n",
      "\n"
     ]
    },
    {
     "data": {
      "text/html": [
       "<div>\n",
       "<style scoped>\n",
       "    .dataframe tbody tr th:only-of-type {\n",
       "        vertical-align: middle;\n",
       "    }\n",
       "\n",
       "    .dataframe tbody tr th {\n",
       "        vertical-align: top;\n",
       "    }\n",
       "\n",
       "    .dataframe thead th {\n",
       "        text-align: right;\n",
       "    }\n",
       "</style>\n",
       "<table border=\"1\" class=\"dataframe\">\n",
       "  <thead>\n",
       "    <tr style=\"text-align: right;\">\n",
       "      <th></th>\n",
       "      <th>number_of_shipmets</th>\n",
       "      <th>destination_country</th>\n",
       "      <th>carrier_description</th>\n",
       "      <th>sk_month</th>\n",
       "    </tr>\n",
       "  </thead>\n",
       "  <tbody>\n",
       "    <tr>\n",
       "      <th>0</th>\n",
       "      <td>122926</td>\n",
       "      <td>United Kingdom</td>\n",
       "      <td>HERMES</td>\n",
       "      <td>202210</td>\n",
       "    </tr>\n",
       "    <tr>\n",
       "      <th>1</th>\n",
       "      <td>85822</td>\n",
       "      <td>United Kingdom</td>\n",
       "      <td>HERMES</td>\n",
       "      <td>202202</td>\n",
       "    </tr>\n",
       "    <tr>\n",
       "      <th>2</th>\n",
       "      <td>118426</td>\n",
       "      <td>United Kingdom</td>\n",
       "      <td>HERMES</td>\n",
       "      <td>202205</td>\n",
       "    </tr>\n",
       "    <tr>\n",
       "      <th>3</th>\n",
       "      <td>92995</td>\n",
       "      <td>United Kingdom</td>\n",
       "      <td>HERMES</td>\n",
       "      <td>202208</td>\n",
       "    </tr>\n",
       "    <tr>\n",
       "      <th>4</th>\n",
       "      <td>81742</td>\n",
       "      <td>United Kingdom</td>\n",
       "      <td>HERMES</td>\n",
       "      <td>202212</td>\n",
       "    </tr>\n",
       "    <tr>\n",
       "      <th>5</th>\n",
       "      <td>132155</td>\n",
       "      <td>United Kingdom</td>\n",
       "      <td>HERMES</td>\n",
       "      <td>202204</td>\n",
       "    </tr>\n",
       "    <tr>\n",
       "      <th>6</th>\n",
       "      <td>30510</td>\n",
       "      <td>United Kingdom</td>\n",
       "      <td>YODEL</td>\n",
       "      <td>202211</td>\n",
       "    </tr>\n",
       "    <tr>\n",
       "      <th>7</th>\n",
       "      <td>55304</td>\n",
       "      <td>United Kingdom</td>\n",
       "      <td>YODEL</td>\n",
       "      <td>202212</td>\n",
       "    </tr>\n",
       "    <tr>\n",
       "      <th>8</th>\n",
       "      <td>93285</td>\n",
       "      <td>United Kingdom</td>\n",
       "      <td>HERMES</td>\n",
       "      <td>202201</td>\n",
       "    </tr>\n",
       "    <tr>\n",
       "      <th>9</th>\n",
       "      <td>123807</td>\n",
       "      <td>United Kingdom</td>\n",
       "      <td>HERMES</td>\n",
       "      <td>202206</td>\n",
       "    </tr>\n",
       "    <tr>\n",
       "      <th>10</th>\n",
       "      <td>131117</td>\n",
       "      <td>United Kingdom</td>\n",
       "      <td>HERMES</td>\n",
       "      <td>202207</td>\n",
       "    </tr>\n",
       "    <tr>\n",
       "      <th>11</th>\n",
       "      <td>76827</td>\n",
       "      <td>United Kingdom</td>\n",
       "      <td>HERMES</td>\n",
       "      <td>202211</td>\n",
       "    </tr>\n",
       "    <tr>\n",
       "      <th>12</th>\n",
       "      <td>97789</td>\n",
       "      <td>United Kingdom</td>\n",
       "      <td>HERMES</td>\n",
       "      <td>202203</td>\n",
       "    </tr>\n",
       "    <tr>\n",
       "      <th>13</th>\n",
       "      <td>89654</td>\n",
       "      <td>United Kingdom</td>\n",
       "      <td>HERMES</td>\n",
       "      <td>202209</td>\n",
       "    </tr>\n",
       "  </tbody>\n",
       "</table>\n",
       "</div>"
      ],
      "text/plain": [
       "    number_of_shipmets destination_country carrier_description sk_month\n",
       "0               122926      United Kingdom              HERMES   202210\n",
       "1                85822      United Kingdom              HERMES   202202\n",
       "2               118426      United Kingdom              HERMES   202205\n",
       "3                92995      United Kingdom              HERMES   202208\n",
       "4                81742      United Kingdom              HERMES   202212\n",
       "5               132155      United Kingdom              HERMES   202204\n",
       "6                30510      United Kingdom               YODEL   202211\n",
       "7                55304      United Kingdom               YODEL   202212\n",
       "8                93285      United Kingdom              HERMES   202201\n",
       "9               123807      United Kingdom              HERMES   202206\n",
       "10              131117      United Kingdom              HERMES   202207\n",
       "11               76827      United Kingdom              HERMES   202211\n",
       "12               97789      United Kingdom              HERMES   202203\n",
       "13               89654      United Kingdom              HERMES   202209"
      ]
     },
     "execution_count": 45,
     "metadata": {},
     "output_type": "execute_result"
    }
   ],
   "source": [
    "# Taking the claim information from the datalake\n",
    "query = \"\"\"\n",
    "with ffsoi_base as (\n",
    "        select\n",
    "\n",
    "                        ffsoi.shipment_id, ffsoi.ts_est_delivery_from, ffsoi.ts_est_delivery_to,\n",
    "                        ffsoi.sk_order_type, ffsoi.sk_logistic_provider, ffsoi.sk_order_date,\n",
    "                        ffsoi.full_cancellation_flag, ffsoi.sk_selected_fulfill_service,\n",
    "                        ffsoi.sk_delivery_type, ffsoi.sk_sales_channel, ffsoi.sk_destination,\n",
    "                        ffsoi.sk_wmo_flag, ffsoi.shipment_has_ldd, ffsoi.sk_stock_location_id,\n",
    "                        ffsoi.sk_carrier,\n",
    "\n",
    "                        fccs.ts_first_delivery_attempt, fccs.sk_customer_delivery_date,\n",
    "                        fccs.ts_customer_delivery,\n",
    "                        fccs.lt_min_order_to_fda_wo_sun, fccs.lt_min_order_to_fda_wo_wend,\n",
    "                        fccs.sk_delivery_cluster_wo_sun, fccs.is_prepayment_shipment,\n",
    "\n",
    "                        fccs.is_delivered_too_early,\n",
    "                        fccs.is_delivered_two_days_earlier,\n",
    "                        fccs.is_delivered_a_day_earlier,\n",
    "                        fccs.is_delivered_as_promised,\n",
    "                        fccs.is_home_target,\n",
    "                        fccs.is_pickup_point_target,\n",
    "                        fccs.is_delivered_to_home,\n",
    "                        fccs.is_delivered_to_pickup_point,\n",
    "\n",
    "                        coalesce(ffsoi.sk_carrier, fccs.sk_carrier) as sk_carrier,\n",
    "                        coalesce(ffsoi.sk_delivery_product, fccs.sk_delivery_product) as sk_delivery_product,\n",
    "\n",
    "                        f_serv.fulfillment_service,\n",
    "                        d_serv.service_name,\n",
    "                        d_prod_serv.service_name as del_serv,\n",
    "                        chan.sk_cfa,\n",
    "                        country.destination_country,\n",
    "                        logistic.logistic_provider_name,\n",
    "                        logistic.logistic_provider,\n",
    "                        stock.warehouse_name,\n",
    "                        carr.carrier_description,\n",
    "                        d_prod.sk_delivery_service,\n",
    "                        d_prod.sk_delivery_carrier,\n",
    "                        case when chan.sk_cfa in (31, 26) then 'FS'\n",
    "                             when chan.sk_cfa = 28 then 'Lounge' end as cfa -- 26 is empty for recent periods, it stands for zlash\n",
    "\n",
    "\n",
    "        from\n",
    "\n",
    "                      (select shipment_id,\n",
    "                              min(ts_est_delivery_from) as ts_est_delivery_from,\n",
    "                              min(ts_est_delivery_to) as ts_est_delivery_to,\n",
    "                              max(sk_order_type) as sk_order_type,\n",
    "                              max(sk_logistic_provider) as sk_logistic_provider,\n",
    "                              max(sk_order_date) as sk_order_date,\n",
    "                              max(full_cancellation_flag) as full_cancellation_flag,\n",
    "                              max(sk_selected_fulfill_service) as sk_selected_fulfill_service,\n",
    "                              max(sk_delivery_type) as sk_delivery_type,\n",
    "                              max(sk_sales_channel) as sk_sales_channel,\n",
    "                              max(sk_destination) as sk_destination,\n",
    "                              max(sk_wmo_flag) as sk_wmo_flag,\n",
    "                              max(sk_stock_location_id) as sk_stock_location_id,\n",
    "                              max(is_long_distance_item) as shipment_has_ldd,\n",
    "                              max(sk_carrier) as sk_carrier,\n",
    "                              max(sk_delivery_product) as sk_delivery_product\n",
    "                      from dwh_confidential.f_fos_shipment_order_items\n",
    "                      where sk_order_date between  20220101 and 20221231\n",
    "                      group by shipment_id ) as ffsoi\n",
    "\n",
    "                      -- For calculated lead times [sk_delivery_cluster_wo_sun, lt_min_order_to_fda_wo_sun,\n",
    "                      -- lt_min_order_to_fda_wo_wend]\n",
    "                      left join (select shipment_id, \n",
    "                                        max(ts_first_delivery_attempt) as ts_first_delivery_attempt,\n",
    "                                        max(sk_first_delivery_attempt_date) as sk_first_delivery_attempt_date,\n",
    "                                        max(ts_customer_delivery) as ts_customer_delivery,\n",
    "                                        max(sk_customer_delivery_date) as sk_customer_delivery_date,\n",
    "                                        max(lt_min_order_to_fda_wo_sun) as lt_min_order_to_fda_wo_sun,\n",
    "                                        max(lt_min_order_to_fda_wo_wend) as lt_min_order_to_fda_wo_wend,\n",
    "                                        max(sk_delivery_cluster_wo_sun) as sk_delivery_cluster_wo_sun,\n",
    "                                        max(sk_carrier) as sk_carrier,\n",
    "                                        max(sk_delivery_product) as sk_delivery_product,\n",
    "                                        max(is_delivered_too_early) as is_delivered_too_early,\n",
    "                                        max(is_delivered_two_days_earlier) as is_delivered_two_days_earlier,\n",
    "                                        max(is_delivered_a_day_earlier) as is_delivered_a_day_earlier,\n",
    "                                        max(is_delivered_as_promised) as is_delivered_as_promised,\n",
    "                                        max(is_prepayment_shipment) as is_prepayment_shipment,\n",
    "                                        max(is_home_target) as is_home_target,\n",
    "                                        max(is_pickup_point_target) as is_pickup_point_target,\n",
    "                                        max(is_delivered_to_home) as is_delivered_to_home,\n",
    "                                        max(is_delivered_to_pickup_point) as is_delivered_to_pickup_point\n",
    "                                 from dwh_confidential.f_cot_carrier_shipments\n",
    "                                 where sk_min_order_created_date between 20220101 and 20221231\n",
    "                                 group by shipment_id ) as fccs\n",
    "                                 on ffsoi.shipment_id = fccs.shipment_id\n",
    "\n",
    "                      -- For delivery service [sk_delivery_carrier]\n",
    "                      left join dwh_insider.d_delivery_products d_prod\n",
    "                                on coalesce(ffsoi.sk_delivery_product, fccs.sk_delivery_product) = d_prod.sk_delivery_product\n",
    "\n",
    "                      -- for carrier name [carrier_name]\n",
    "                      left join dwh_insider.d_delivery_carriers carr\n",
    "                                on d_prod.sk_delivery_carrier = carr.sk_delivery_carrier\n",
    "\n",
    "                      -- For selected fulfillment service [fulfillment_service]\n",
    "                      left join dwh_insider.d_shp_fulfillment_services f_serv\n",
    "                                on ffsoi.sk_selected_fulfill_service = f_serv.sk_fulfillment_service\n",
    "\n",
    "                      -- For delivery service [service_name]\n",
    "                      left join dwh_insider.d_delivery_services d_serv\n",
    "                                on ffsoi.sk_delivery_type = d_serv.sk_delivery_service\n",
    "\n",
    "                      -- For delivery service [service_name]\n",
    "                      left join dwh_insider.d_delivery_services d_prod_serv\n",
    "                                on d_prod.sk_delivery_service = d_prod_serv.sk_delivery_service\n",
    "\n",
    "                      -- For filtering for shop [sk_cfa]\n",
    "                      left join dwh_insider.d_sales_channels chan\n",
    "                                on ffsoi.sk_sales_channel = chan.sk_sales_channels\n",
    "\n",
    "                      -- For getting destination country [country_code]\n",
    "                      left join (select sk_destination, max(sk_shipping_country) as sk_country\n",
    "                                 from dwh_confidential.d_destinations\n",
    "                                 group by 1) as dest\n",
    "                                on ffsoi.sk_destination = dest.sk_destination\n",
    "\n",
    "                      -- For filtering Zalando fulfillment [fulfillment_type, warehouse_name]\n",
    "                      left join dwh_insider.d_stock_location_bp as stock\n",
    "                                on ffsoi.sk_stock_location_id = stock.sk_stock_location\n",
    "\n",
    "                      -- For getting destination country [destination_country]\n",
    "                      left join (select sk_country, country_name_short_en as destination_country\n",
    "                                 from dwh_confidential.d_country\n",
    "                                 group by 1, 2) as country\n",
    "                                on dest.sk_country = country.sk_country\n",
    "\n",
    "                      left join dwh_insider.d_logistic_provider logistic\n",
    "                                on ffsoi.sk_logistic_provider = logistic.sk_logistic_provider\n",
    "\n",
    "            where cast(date_format(ts_est_delivery_to, '%Y%m%d') as integer) between 20220101 and 20221231\n",
    "\n",
    "             and ffsoi.sk_order_type in (5)\n",
    "             \n",
    "             and ffsoi.sk_stock_location_id in (130, 116, 331, 36, 377, 205, 135, 5319099, 167178576, 337994408, 167178575, 89888100, 194682468, 194685072, 194683969)\n",
    "             and ffsoi.full_cancellation_flag = 0\n",
    "           \n",
    "             and chan.sk_cfa in (31, 26, 28)\n",
    "             and fccs.is_prepayment_shipment in (0)\n",
    "           )\n",
    "           SELECT  COUNT(DISTINCT shipment_id) as number_of_shipmets\n",
    "                 \n",
    "                  ,destination_country\n",
    "                  ,carrier_description \n",
    "                  , cast(sk_month as varchar) as sk_month\n",
    "           FROM ffsoi_base\n",
    "           LEFT JOIN \n",
    "          dwh_insider.d_date as d\n",
    "          ON d.sk_date = ffsoi_base.sk_customer_delivery_date\n",
    "           WHERE destination_country='United Kingdom'\n",
    "                   AND cfa = 'FS'\n",
    "                   AND sk_month between 202201 and 202212\n",
    "           GROUP BY  destination_country\n",
    "                    ,carrier_description\n",
    "                     , sk_month\n",
    "         \n",
    "   \"\"\"\n",
    "shipments = pd.read_sql_query(query, connection)\n",
    "shipments "
   ]
  },
  {
   "cell_type": "code",
   "execution_count": 48,
   "id": "a5b2cd42-e250-4e20-809f-f1d2acdf9dcd",
   "metadata": {},
   "outputs": [
    {
     "ename": "KeyError",
     "evalue": "\"['ZIP'] not in index\"",
     "output_type": "error",
     "traceback": [
      "\u001b[0;31m---------------------------------------------------------------------------\u001b[0m",
      "\u001b[0;31mKeyError\u001b[0m                                  Traceback (most recent call last)",
      "\u001b[0;32m/tmp/ipykernel_1796/2011114836.py\u001b[0m in \u001b[0;36m<cell line: 2>\u001b[0;34m()\u001b[0m\n\u001b[1;32m      1\u001b[0m \u001b[0mdf3\u001b[0m\u001b[0;34m=\u001b[0m\u001b[0mpd\u001b[0m\u001b[0;34m.\u001b[0m\u001b[0mmerge\u001b[0m\u001b[0;34m(\u001b[0m \u001b[0mgroup_country_uk\u001b[0m\u001b[0;34m,\u001b[0m\u001b[0mshipments\u001b[0m \u001b[0;34m,\u001b[0m\u001b[0mleft_on\u001b[0m\u001b[0;34m=\u001b[0m\u001b[0;34m[\u001b[0m\u001b[0;34m\"sk_month\"\u001b[0m\u001b[0;34m,\u001b[0m\u001b[0;34m\"carriers\"\u001b[0m\u001b[0;34m]\u001b[0m\u001b[0;34m,\u001b[0m \u001b[0mright_on\u001b[0m\u001b[0;34m=\u001b[0m\u001b[0;34m[\u001b[0m\u001b[0;34m\"sk_month\"\u001b[0m\u001b[0;34m,\u001b[0m\u001b[0;34m\"carrier_description\"\u001b[0m\u001b[0;34m]\u001b[0m\u001b[0;34m,\u001b[0m \u001b[0mhow\u001b[0m\u001b[0;34m=\u001b[0m\u001b[0;34m'left'\u001b[0m \u001b[0;34m)\u001b[0m\u001b[0;34m\u001b[0m\u001b[0;34m\u001b[0m\u001b[0m\n\u001b[0;32m----> 2\u001b[0;31m \u001b[0mdf3\u001b[0m\u001b[0;34m=\u001b[0m\u001b[0mdf3\u001b[0m\u001b[0;34m[\u001b[0m\u001b[0;34m[\u001b[0m\u001b[0;34m'sk_month'\u001b[0m\u001b[0;34m,\u001b[0m\u001b[0;34m'carriers'\u001b[0m\u001b[0;34m,\u001b[0m\u001b[0;34m'claims_amount'\u001b[0m\u001b[0;34m,\u001b[0m\u001b[0;34m'number_of_claims'\u001b[0m\u001b[0;34m,\u001b[0m\u001b[0;34m'number_of_shipmets'\u001b[0m\u001b[0;34m,\u001b[0m\u001b[0;34m'ZIP'\u001b[0m\u001b[0;34m]\u001b[0m\u001b[0;34m]\u001b[0m\u001b[0;34m\u001b[0m\u001b[0;34m\u001b[0m\u001b[0m\n\u001b[0m\u001b[1;32m      3\u001b[0m \u001b[0mdf3\u001b[0m\u001b[0;34m[\u001b[0m\u001b[0;34m'claims_rate'\u001b[0m\u001b[0;34m]\u001b[0m\u001b[0;34m=\u001b[0m\u001b[0;34m(\u001b[0m\u001b[0mdf3\u001b[0m\u001b[0;34m[\u001b[0m\u001b[0;34m'number_of_claims'\u001b[0m\u001b[0;34m]\u001b[0m\u001b[0;34m/\u001b[0m\u001b[0mdf3\u001b[0m\u001b[0;34m[\u001b[0m\u001b[0;34m'number_of_shipmets'\u001b[0m\u001b[0;34m]\u001b[0m\u001b[0;34m)\u001b[0m\u001b[0;34m*\u001b[0m\u001b[0;36m100\u001b[0m\u001b[0;34m\u001b[0m\u001b[0;34m\u001b[0m\u001b[0m\n\u001b[1;32m      4\u001b[0m \u001b[0mdf3\u001b[0m\u001b[0;34m\u001b[0m\u001b[0;34m\u001b[0m\u001b[0m\n",
      "\u001b[0;32m/opt/conda/lib/python3.8/site-packages/pandas/core/frame.py\u001b[0m in \u001b[0;36m__getitem__\u001b[0;34m(self, key)\u001b[0m\n\u001b[1;32m   3809\u001b[0m             \u001b[0;32mif\u001b[0m \u001b[0mis_iterator\u001b[0m\u001b[0;34m(\u001b[0m\u001b[0mkey\u001b[0m\u001b[0;34m)\u001b[0m\u001b[0;34m:\u001b[0m\u001b[0;34m\u001b[0m\u001b[0;34m\u001b[0m\u001b[0m\n\u001b[1;32m   3810\u001b[0m                 \u001b[0mkey\u001b[0m \u001b[0;34m=\u001b[0m \u001b[0mlist\u001b[0m\u001b[0;34m(\u001b[0m\u001b[0mkey\u001b[0m\u001b[0;34m)\u001b[0m\u001b[0;34m\u001b[0m\u001b[0;34m\u001b[0m\u001b[0m\n\u001b[0;32m-> 3811\u001b[0;31m             \u001b[0mindexer\u001b[0m \u001b[0;34m=\u001b[0m \u001b[0mself\u001b[0m\u001b[0;34m.\u001b[0m\u001b[0mcolumns\u001b[0m\u001b[0;34m.\u001b[0m\u001b[0m_get_indexer_strict\u001b[0m\u001b[0;34m(\u001b[0m\u001b[0mkey\u001b[0m\u001b[0;34m,\u001b[0m \u001b[0;34m\"columns\"\u001b[0m\u001b[0;34m)\u001b[0m\u001b[0;34m[\u001b[0m\u001b[0;36m1\u001b[0m\u001b[0;34m]\u001b[0m\u001b[0;34m\u001b[0m\u001b[0;34m\u001b[0m\u001b[0m\n\u001b[0m\u001b[1;32m   3812\u001b[0m \u001b[0;34m\u001b[0m\u001b[0m\n\u001b[1;32m   3813\u001b[0m         \u001b[0;31m# take() does not accept boolean indexers\u001b[0m\u001b[0;34m\u001b[0m\u001b[0;34m\u001b[0m\u001b[0;34m\u001b[0m\u001b[0m\n",
      "\u001b[0;32m/opt/conda/lib/python3.8/site-packages/pandas/core/indexes/base.py\u001b[0m in \u001b[0;36m_get_indexer_strict\u001b[0;34m(self, key, axis_name)\u001b[0m\n\u001b[1;32m   6111\u001b[0m             \u001b[0mkeyarr\u001b[0m\u001b[0;34m,\u001b[0m \u001b[0mindexer\u001b[0m\u001b[0;34m,\u001b[0m \u001b[0mnew_indexer\u001b[0m \u001b[0;34m=\u001b[0m \u001b[0mself\u001b[0m\u001b[0;34m.\u001b[0m\u001b[0m_reindex_non_unique\u001b[0m\u001b[0;34m(\u001b[0m\u001b[0mkeyarr\u001b[0m\u001b[0;34m)\u001b[0m\u001b[0;34m\u001b[0m\u001b[0;34m\u001b[0m\u001b[0m\n\u001b[1;32m   6112\u001b[0m \u001b[0;34m\u001b[0m\u001b[0m\n\u001b[0;32m-> 6113\u001b[0;31m         \u001b[0mself\u001b[0m\u001b[0;34m.\u001b[0m\u001b[0m_raise_if_missing\u001b[0m\u001b[0;34m(\u001b[0m\u001b[0mkeyarr\u001b[0m\u001b[0;34m,\u001b[0m \u001b[0mindexer\u001b[0m\u001b[0;34m,\u001b[0m \u001b[0maxis_name\u001b[0m\u001b[0;34m)\u001b[0m\u001b[0;34m\u001b[0m\u001b[0;34m\u001b[0m\u001b[0m\n\u001b[0m\u001b[1;32m   6114\u001b[0m \u001b[0;34m\u001b[0m\u001b[0m\n\u001b[1;32m   6115\u001b[0m         \u001b[0mkeyarr\u001b[0m \u001b[0;34m=\u001b[0m \u001b[0mself\u001b[0m\u001b[0;34m.\u001b[0m\u001b[0mtake\u001b[0m\u001b[0;34m(\u001b[0m\u001b[0mindexer\u001b[0m\u001b[0;34m)\u001b[0m\u001b[0;34m\u001b[0m\u001b[0;34m\u001b[0m\u001b[0m\n",
      "\u001b[0;32m/opt/conda/lib/python3.8/site-packages/pandas/core/indexes/base.py\u001b[0m in \u001b[0;36m_raise_if_missing\u001b[0;34m(self, key, indexer, axis_name)\u001b[0m\n\u001b[1;32m   6174\u001b[0m \u001b[0;34m\u001b[0m\u001b[0m\n\u001b[1;32m   6175\u001b[0m             \u001b[0mnot_found\u001b[0m \u001b[0;34m=\u001b[0m \u001b[0mlist\u001b[0m\u001b[0;34m(\u001b[0m\u001b[0mensure_index\u001b[0m\u001b[0;34m(\u001b[0m\u001b[0mkey\u001b[0m\u001b[0;34m)\u001b[0m\u001b[0;34m[\u001b[0m\u001b[0mmissing_mask\u001b[0m\u001b[0;34m.\u001b[0m\u001b[0mnonzero\u001b[0m\u001b[0;34m(\u001b[0m\u001b[0;34m)\u001b[0m\u001b[0;34m[\u001b[0m\u001b[0;36m0\u001b[0m\u001b[0;34m]\u001b[0m\u001b[0;34m]\u001b[0m\u001b[0;34m.\u001b[0m\u001b[0munique\u001b[0m\u001b[0;34m(\u001b[0m\u001b[0;34m)\u001b[0m\u001b[0;34m)\u001b[0m\u001b[0;34m\u001b[0m\u001b[0;34m\u001b[0m\u001b[0m\n\u001b[0;32m-> 6176\u001b[0;31m             \u001b[0;32mraise\u001b[0m \u001b[0mKeyError\u001b[0m\u001b[0;34m(\u001b[0m\u001b[0;34mf\"{not_found} not in index\"\u001b[0m\u001b[0;34m)\u001b[0m\u001b[0;34m\u001b[0m\u001b[0;34m\u001b[0m\u001b[0m\n\u001b[0m\u001b[1;32m   6177\u001b[0m \u001b[0;34m\u001b[0m\u001b[0m\n\u001b[1;32m   6178\u001b[0m     \u001b[0;34m@\u001b[0m\u001b[0moverload\u001b[0m\u001b[0;34m\u001b[0m\u001b[0;34m\u001b[0m\u001b[0m\n",
      "\u001b[0;31mKeyError\u001b[0m: \"['ZIP'] not in index\""
     ]
    }
   ],
   "source": [
    "df3=pd.merge( group_country_uk,shipments ,left_on=[\"sk_month\",\"carriers\"], right_on=[\"sk_month\",\"carrier_description\"], how='left' )\n",
    "df3=df3[['sk_month','carriers','claims_amount','number_of_claims','number_of_shipmets','ZIP']]\n",
    "df3['claims_rate']=(df3['number_of_claims']/df3['number_of_shipmets'])*100\n",
    "df3"
   ]
  },
  {
   "cell_type": "code",
   "execution_count": 47,
   "id": "d74fb5ba-17fb-42cb-8871-3adef5d09f90",
   "metadata": {},
   "outputs": [
    {
     "data": {
      "image/png": "[encoded data removed]",
      "text/plain": [
       "<Figure size 1000x500 with 1 Axes>"
      ]
     },
     "metadata": {},
     "output_type": "display_data"
    }
   ],
   "source": [
    "fig, ax = plt.subplots(figsize=(10,5))\n",
    "ax=sns.lineplot(data=df3, x=\"sk_month\", y=\"claims_rate\",hue='carriers',errorbar=None,palette=[\"orange\", \"gray\"])\n",
    "ax.set_ylabel('Claims rate')    \n",
    "ax.set_xlabel('Month')\n",
    "plt.legend(bbox_to_anchor=(1.02, 1), loc='upper left', borderaxespad=0) \n",
    "    # label points on the plot\n",
    "for x, y in zip(df3['sk_month'], df3['claims_rate']):\n",
    "    plt.text(x = x, y = y,s='{0:.2f}'.format(y),color = 'black')\n",
    "plt.show()"
   ]
  },
  {
   "cell_type": "code",
   "execution_count": 50,
   "id": "f676d688-28b1-401b-91c8-0378be703df0",
   "metadata": {},
   "outputs": [
    {
     "data": {
      "text/html": [
       "<div>\n",
       "<style scoped>\n",
       "    .dataframe tbody tr th:only-of-type {\n",
       "        vertical-align: middle;\n",
       "    }\n",
       "\n",
       "    .dataframe tbody tr th {\n",
       "        vertical-align: top;\n",
       "    }\n",
       "\n",
       "    .dataframe thead th {\n",
       "        text-align: right;\n",
       "    }\n",
       "</style>\n",
       "<table border=\"1\" class=\"dataframe\">\n",
       "  <thead>\n",
       "    <tr style=\"text-align: right;\">\n",
       "      <th></th>\n",
       "      <th>number_of_claims</th>\n",
       "      <th>claims_amount</th>\n",
       "      <th>country_code</th>\n",
       "      <th>sk_month</th>\n",
       "      <th>carrier</th>\n",
       "      <th>ZIP</th>\n",
       "      <th>city</th>\n",
       "      <th>unplanned_return_flag</th>\n",
       "      <th>reconditioned_claim_flag</th>\n",
       "    </tr>\n",
       "  </thead>\n",
       "  <tbody>\n",
       "    <tr>\n",
       "      <th>35</th>\n",
       "      <td>1</td>\n",
       "      <td>78.84</td>\n",
       "      <td>GB</td>\n",
       "      <td>202207</td>\n",
       "      <td>HERMES</td>\n",
       "      <td>G12 9UE</td>\n",
       "      <td>Glasgow</td>\n",
       "      <td>0</td>\n",
       "      <td>0</td>\n",
       "    </tr>\n",
       "    <tr>\n",
       "      <th>44</th>\n",
       "      <td>1</td>\n",
       "      <td>52.99</td>\n",
       "      <td>GB</td>\n",
       "      <td>202209</td>\n",
       "      <td>HERMES</td>\n",
       "      <td>NW8 8AT</td>\n",
       "      <td>London</td>\n",
       "      <td>0</td>\n",
       "      <td>0</td>\n",
       "    </tr>\n",
       "    <tr>\n",
       "      <th>54</th>\n",
       "      <td>1</td>\n",
       "      <td>151.45</td>\n",
       "      <td>GB</td>\n",
       "      <td>202212</td>\n",
       "      <td>YODEL</td>\n",
       "      <td>RM18 7BL</td>\n",
       "      <td>Tilbury</td>\n",
       "      <td>0</td>\n",
       "      <td>1</td>\n",
       "    </tr>\n",
       "    <tr>\n",
       "      <th>87</th>\n",
       "      <td>1</td>\n",
       "      <td>150.77</td>\n",
       "      <td>GB</td>\n",
       "      <td>202203</td>\n",
       "      <td>HERMES</td>\n",
       "      <td>DH1 5EE</td>\n",
       "      <td>Durham</td>\n",
       "      <td>0</td>\n",
       "      <td>0</td>\n",
       "    </tr>\n",
       "    <tr>\n",
       "      <th>114</th>\n",
       "      <td>1</td>\n",
       "      <td>46.52</td>\n",
       "      <td>GB</td>\n",
       "      <td>202206</td>\n",
       "      <td>HERMES</td>\n",
       "      <td>LU2 7HT</td>\n",
       "      <td>Luton</td>\n",
       "      <td>0</td>\n",
       "      <td>0</td>\n",
       "    </tr>\n",
       "    <tr>\n",
       "      <th>...</th>\n",
       "      <td>...</td>\n",
       "      <td>...</td>\n",
       "      <td>...</td>\n",
       "      <td>...</td>\n",
       "      <td>...</td>\n",
       "      <td>...</td>\n",
       "      <td>...</td>\n",
       "      <td>...</td>\n",
       "      <td>...</td>\n",
       "    </tr>\n",
       "    <tr>\n",
       "      <th>272409</th>\n",
       "      <td>1</td>\n",
       "      <td>375.70</td>\n",
       "      <td>GB</td>\n",
       "      <td>202203</td>\n",
       "      <td>HERMES</td>\n",
       "      <td>E3 2QF</td>\n",
       "      <td>London</td>\n",
       "      <td>0</td>\n",
       "      <td>0</td>\n",
       "    </tr>\n",
       "    <tr>\n",
       "      <th>272421</th>\n",
       "      <td>1</td>\n",
       "      <td>40.33</td>\n",
       "      <td>GB</td>\n",
       "      <td>202209</td>\n",
       "      <td>HERMES</td>\n",
       "      <td>CO3 9BG</td>\n",
       "      <td>Colchester</td>\n",
       "      <td>0</td>\n",
       "      <td>0</td>\n",
       "    </tr>\n",
       "    <tr>\n",
       "      <th>272424</th>\n",
       "      <td>1</td>\n",
       "      <td>96.21</td>\n",
       "      <td>GB</td>\n",
       "      <td>202210</td>\n",
       "      <td>HERMES</td>\n",
       "      <td>E15 2ZG</td>\n",
       "      <td>London</td>\n",
       "      <td>0</td>\n",
       "      <td>0</td>\n",
       "    </tr>\n",
       "    <tr>\n",
       "      <th>272429</th>\n",
       "      <td>1</td>\n",
       "      <td>36.58</td>\n",
       "      <td>GB</td>\n",
       "      <td>202205</td>\n",
       "      <td>HERMES</td>\n",
       "      <td>WN5 0EW</td>\n",
       "      <td>Wigan</td>\n",
       "      <td>0</td>\n",
       "      <td>0</td>\n",
       "    </tr>\n",
       "    <tr>\n",
       "      <th>272497</th>\n",
       "      <td>1</td>\n",
       "      <td>43.60</td>\n",
       "      <td>GB</td>\n",
       "      <td>202206</td>\n",
       "      <td>HERMES</td>\n",
       "      <td>M35 9LQ</td>\n",
       "      <td>Manchester</td>\n",
       "      <td>0</td>\n",
       "      <td>0</td>\n",
       "    </tr>\n",
       "  </tbody>\n",
       "</table>\n",
       "<p>16623 rows × 9 columns</p>\n",
       "</div>"
      ],
      "text/plain": [
       "        number_of_claims  claims_amount country_code  sk_month carrier  \\\n",
       "35                     1          78.84           GB    202207  HERMES   \n",
       "44                     1          52.99           GB    202209  HERMES   \n",
       "54                     1         151.45           GB    202212   YODEL   \n",
       "87                     1         150.77           GB    202203  HERMES   \n",
       "114                    1          46.52           GB    202206  HERMES   \n",
       "...                  ...            ...          ...       ...     ...   \n",
       "272409                 1         375.70           GB    202203  HERMES   \n",
       "272421                 1          40.33           GB    202209  HERMES   \n",
       "272424                 1          96.21           GB    202210  HERMES   \n",
       "272429                 1          36.58           GB    202205  HERMES   \n",
       "272497                 1          43.60           GB    202206  HERMES   \n",
       "\n",
       "             ZIP        city unplanned_return_flag reconditioned_claim_flag  \n",
       "35       G12 9UE     Glasgow                     0                        0  \n",
       "44       NW8 8AT      London                     0                        0  \n",
       "54      RM18 7BL     Tilbury                     0                        1  \n",
       "87       DH1 5EE      Durham                     0                        0  \n",
       "114      LU2 7HT       Luton                     0                        0  \n",
       "...          ...         ...                   ...                      ...  \n",
       "272409    E3 2QF      London                     0                        0  \n",
       "272421   CO3 9BG  Colchester                     0                        0  \n",
       "272424   E15 2ZG      London                     0                        0  \n",
       "272429   WN5 0EW       Wigan                     0                        0  \n",
       "272497   M35 9LQ  Manchester                     0                        0  \n",
       "\n",
       "[16623 rows x 9 columns]"
      ]
     },
     "execution_count": 50,
     "metadata": {},
     "output_type": "execute_result"
    }
   ],
   "source": [
    "group_country_uk=df[df['country_code']=='GB']\n",
    "group_country_uk"
   ]
  },
  {
   "cell_type": "code",
   "execution_count": 59,
   "id": "cc2ae942-fa68-4ab6-a662-f77e352ca0c2",
   "metadata": {},
   "outputs": [
    {
     "data": {
      "text/html": [
       "<div>\n",
       "<style scoped>\n",
       "    .dataframe tbody tr th:only-of-type {\n",
       "        vertical-align: middle;\n",
       "    }\n",
       "\n",
       "    .dataframe tbody tr th {\n",
       "        vertical-align: top;\n",
       "    }\n",
       "\n",
       "    .dataframe thead th {\n",
       "        text-align: right;\n",
       "    }\n",
       "</style>\n",
       "<table border=\"1\" class=\"dataframe\">\n",
       "  <thead>\n",
       "    <tr style=\"text-align: right;\">\n",
       "      <th></th>\n",
       "      <th>number_of_claims</th>\n",
       "      <th>claims_amount</th>\n",
       "      <th>country_code</th>\n",
       "      <th>sk_month</th>\n",
       "      <th>carrier</th>\n",
       "      <th>ZIP</th>\n",
       "      <th>city</th>\n",
       "      <th>unplanned_return_flag</th>\n",
       "      <th>reconditioned_claim_flag</th>\n",
       "    </tr>\n",
       "  </thead>\n",
       "  <tbody>\n",
       "    <tr>\n",
       "      <th>257566</th>\n",
       "      <td>11</td>\n",
       "      <td>1035.37</td>\n",
       "      <td>GB</td>\n",
       "      <td>202209</td>\n",
       "      <td>HERMES</td>\n",
       "      <td>UB2 4HW</td>\n",
       "      <td>London</td>\n",
       "      <td>0</td>\n",
       "      <td>0</td>\n",
       "    </tr>\n",
       "    <tr>\n",
       "      <th>138765</th>\n",
       "      <td>8</td>\n",
       "      <td>673.44</td>\n",
       "      <td>GB</td>\n",
       "      <td>202201</td>\n",
       "      <td>HERMES</td>\n",
       "      <td>N9 9LN</td>\n",
       "      <td>London</td>\n",
       "      <td>0</td>\n",
       "      <td>0</td>\n",
       "    </tr>\n",
       "    <tr>\n",
       "      <th>108087</th>\n",
       "      <td>8</td>\n",
       "      <td>734.39</td>\n",
       "      <td>GB</td>\n",
       "      <td>202202</td>\n",
       "      <td>HERMES</td>\n",
       "      <td>KT3 3ST</td>\n",
       "      <td>New Malden</td>\n",
       "      <td>0</td>\n",
       "      <td>0</td>\n",
       "    </tr>\n",
       "    <tr>\n",
       "      <th>96583</th>\n",
       "      <td>6</td>\n",
       "      <td>681.13</td>\n",
       "      <td>GB</td>\n",
       "      <td>202201</td>\n",
       "      <td>HERMES</td>\n",
       "      <td>SW1V 1RY</td>\n",
       "      <td>City Of Westminster</td>\n",
       "      <td>0</td>\n",
       "      <td>0</td>\n",
       "    </tr>\n",
       "    <tr>\n",
       "      <th>12575</th>\n",
       "      <td>6</td>\n",
       "      <td>407.49</td>\n",
       "      <td>GB</td>\n",
       "      <td>202207</td>\n",
       "      <td>HERMES</td>\n",
       "      <td>N4 4AU</td>\n",
       "      <td>London</td>\n",
       "      <td>0</td>\n",
       "      <td>0</td>\n",
       "    </tr>\n",
       "    <tr>\n",
       "      <th>144043</th>\n",
       "      <td>5</td>\n",
       "      <td>396.20</td>\n",
       "      <td>GB</td>\n",
       "      <td>202204</td>\n",
       "      <td>HERMES</td>\n",
       "      <td>E8 3DF</td>\n",
       "      <td>London</td>\n",
       "      <td>0</td>\n",
       "      <td>0</td>\n",
       "    </tr>\n",
       "    <tr>\n",
       "      <th>231951</th>\n",
       "      <td>5</td>\n",
       "      <td>475.95</td>\n",
       "      <td>GB</td>\n",
       "      <td>202210</td>\n",
       "      <td>HERMES</td>\n",
       "      <td>UB2 4HW</td>\n",
       "      <td>London</td>\n",
       "      <td>0</td>\n",
       "      <td>0</td>\n",
       "    </tr>\n",
       "    <tr>\n",
       "      <th>150276</th>\n",
       "      <td>5</td>\n",
       "      <td>475.05</td>\n",
       "      <td>GB</td>\n",
       "      <td>202210</td>\n",
       "      <td>HERMES</td>\n",
       "      <td>UB2 4HW</td>\n",
       "      <td>London</td>\n",
       "      <td>0</td>\n",
       "      <td>1</td>\n",
       "    </tr>\n",
       "    <tr>\n",
       "      <th>39106</th>\n",
       "      <td>5</td>\n",
       "      <td>474.58</td>\n",
       "      <td>GB</td>\n",
       "      <td>202211</td>\n",
       "      <td>HERMES</td>\n",
       "      <td>SE13 5PR</td>\n",
       "      <td>London</td>\n",
       "      <td>0</td>\n",
       "      <td>0</td>\n",
       "    </tr>\n",
       "    <tr>\n",
       "      <th>20128</th>\n",
       "      <td>5</td>\n",
       "      <td>215.12</td>\n",
       "      <td>GB</td>\n",
       "      <td>202204</td>\n",
       "      <td>HERMES</td>\n",
       "      <td>N8 0RX</td>\n",
       "      <td>London</td>\n",
       "      <td>0</td>\n",
       "      <td>0</td>\n",
       "    </tr>\n",
       "    <tr>\n",
       "      <th>36960</th>\n",
       "      <td>5</td>\n",
       "      <td>366.34</td>\n",
       "      <td>GB</td>\n",
       "      <td>202211</td>\n",
       "      <td>HERMES</td>\n",
       "      <td>N8 7NX</td>\n",
       "      <td>London</td>\n",
       "      <td>1</td>\n",
       "      <td>0</td>\n",
       "    </tr>\n",
       "    <tr>\n",
       "      <th>89633</th>\n",
       "      <td>5</td>\n",
       "      <td>795.81</td>\n",
       "      <td>GB</td>\n",
       "      <td>202204</td>\n",
       "      <td>HERMES</td>\n",
       "      <td>N1 1RU</td>\n",
       "      <td>ISLINGTON</td>\n",
       "      <td>0</td>\n",
       "      <td>0</td>\n",
       "    </tr>\n",
       "    <tr>\n",
       "      <th>145311</th>\n",
       "      <td>5</td>\n",
       "      <td>340.16</td>\n",
       "      <td>GB</td>\n",
       "      <td>202212</td>\n",
       "      <td>HERMES</td>\n",
       "      <td>UB2 4HW</td>\n",
       "      <td>London</td>\n",
       "      <td>0</td>\n",
       "      <td>0</td>\n",
       "    </tr>\n",
       "    <tr>\n",
       "      <th>154001</th>\n",
       "      <td>5</td>\n",
       "      <td>490.92</td>\n",
       "      <td>GB</td>\n",
       "      <td>202204</td>\n",
       "      <td>HERMES</td>\n",
       "      <td>N4 2JS</td>\n",
       "      <td>London</td>\n",
       "      <td>0</td>\n",
       "      <td>0</td>\n",
       "    </tr>\n",
       "    <tr>\n",
       "      <th>238984</th>\n",
       "      <td>4</td>\n",
       "      <td>1162.09</td>\n",
       "      <td>GB</td>\n",
       "      <td>202203</td>\n",
       "      <td>HERMES</td>\n",
       "      <td>HA7 4EU</td>\n",
       "      <td>Stanmore</td>\n",
       "      <td>0</td>\n",
       "      <td>0</td>\n",
       "    </tr>\n",
       "    <tr>\n",
       "      <th>113640</th>\n",
       "      <td>4</td>\n",
       "      <td>289.95</td>\n",
       "      <td>GB</td>\n",
       "      <td>202201</td>\n",
       "      <td>HERMES</td>\n",
       "      <td>LE4 6GJ</td>\n",
       "      <td>Leicester</td>\n",
       "      <td>0</td>\n",
       "      <td>0</td>\n",
       "    </tr>\n",
       "    <tr>\n",
       "      <th>10383</th>\n",
       "      <td>4</td>\n",
       "      <td>313.63</td>\n",
       "      <td>GB</td>\n",
       "      <td>202206</td>\n",
       "      <td>HERMES</td>\n",
       "      <td>BB9 7YN</td>\n",
       "      <td>Nelson</td>\n",
       "      <td>0</td>\n",
       "      <td>0</td>\n",
       "    </tr>\n",
       "    <tr>\n",
       "      <th>203529</th>\n",
       "      <td>4</td>\n",
       "      <td>1089.29</td>\n",
       "      <td>GB</td>\n",
       "      <td>202202</td>\n",
       "      <td>HERMES</td>\n",
       "      <td>RM19 1NT</td>\n",
       "      <td>Purfleet</td>\n",
       "      <td>0</td>\n",
       "      <td>0</td>\n",
       "    </tr>\n",
       "    <tr>\n",
       "      <th>778</th>\n",
       "      <td>4</td>\n",
       "      <td>223.19</td>\n",
       "      <td>GB</td>\n",
       "      <td>202212</td>\n",
       "      <td>HERMES</td>\n",
       "      <td>NN6 0NP</td>\n",
       "      <td>Earls Barton, Northampton</td>\n",
       "      <td>0</td>\n",
       "      <td>0</td>\n",
       "    </tr>\n",
       "    <tr>\n",
       "      <th>271676</th>\n",
       "      <td>4</td>\n",
       "      <td>317.44</td>\n",
       "      <td>GB</td>\n",
       "      <td>202202</td>\n",
       "      <td>HERMES</td>\n",
       "      <td>SW1V 1RY</td>\n",
       "      <td>City Of Westminster</td>\n",
       "      <td>0</td>\n",
       "      <td>0</td>\n",
       "    </tr>\n",
       "    <tr>\n",
       "      <th>214317</th>\n",
       "      <td>4</td>\n",
       "      <td>317.20</td>\n",
       "      <td>GB</td>\n",
       "      <td>202206</td>\n",
       "      <td>HERMES</td>\n",
       "      <td>E8 3SG</td>\n",
       "      <td>London</td>\n",
       "      <td>0</td>\n",
       "      <td>0</td>\n",
       "    </tr>\n",
       "    <tr>\n",
       "      <th>48232</th>\n",
       "      <td>4</td>\n",
       "      <td>340.68</td>\n",
       "      <td>GB</td>\n",
       "      <td>202203</td>\n",
       "      <td>HERMES</td>\n",
       "      <td>N1 6SU</td>\n",
       "      <td>London</td>\n",
       "      <td>0</td>\n",
       "      <td>0</td>\n",
       "    </tr>\n",
       "    <tr>\n",
       "      <th>254719</th>\n",
       "      <td>4</td>\n",
       "      <td>477.22</td>\n",
       "      <td>GB</td>\n",
       "      <td>202203</td>\n",
       "      <td>HERMES</td>\n",
       "      <td>E1 4AA</td>\n",
       "      <td>London</td>\n",
       "      <td>0</td>\n",
       "      <td>0</td>\n",
       "    </tr>\n",
       "    <tr>\n",
       "      <th>168139</th>\n",
       "      <td>4</td>\n",
       "      <td>330.05</td>\n",
       "      <td>GB</td>\n",
       "      <td>202206</td>\n",
       "      <td>HERMES</td>\n",
       "      <td>N8 8DU</td>\n",
       "      <td>London</td>\n",
       "      <td>0</td>\n",
       "      <td>0</td>\n",
       "    </tr>\n",
       "    <tr>\n",
       "      <th>44997</th>\n",
       "      <td>4</td>\n",
       "      <td>492.46</td>\n",
       "      <td>GB</td>\n",
       "      <td>202205</td>\n",
       "      <td>HERMES</td>\n",
       "      <td>SG14 1AL</td>\n",
       "      <td>Hertford</td>\n",
       "      <td>0</td>\n",
       "      <td>0</td>\n",
       "    </tr>\n",
       "    <tr>\n",
       "      <th>12622</th>\n",
       "      <td>4</td>\n",
       "      <td>514.24</td>\n",
       "      <td>GB</td>\n",
       "      <td>202210</td>\n",
       "      <td>HERMES</td>\n",
       "      <td>CM23 5EP</td>\n",
       "      <td>Bishop's Stortford</td>\n",
       "      <td>0</td>\n",
       "      <td>0</td>\n",
       "    </tr>\n",
       "    <tr>\n",
       "      <th>264154</th>\n",
       "      <td>4</td>\n",
       "      <td>3027.97</td>\n",
       "      <td>GB</td>\n",
       "      <td>202203</td>\n",
       "      <td>HERMES</td>\n",
       "      <td>E18 1JJ</td>\n",
       "      <td>South Woodford</td>\n",
       "      <td>0</td>\n",
       "      <td>0</td>\n",
       "    </tr>\n",
       "    <tr>\n",
       "      <th>36496</th>\n",
       "      <td>4</td>\n",
       "      <td>259.58</td>\n",
       "      <td>GB</td>\n",
       "      <td>202201</td>\n",
       "      <td>HERMES</td>\n",
       "      <td>M22 1TY</td>\n",
       "      <td>Wythenshawe</td>\n",
       "      <td>0</td>\n",
       "      <td>0</td>\n",
       "    </tr>\n",
       "    <tr>\n",
       "      <th>250353</th>\n",
       "      <td>4</td>\n",
       "      <td>1818.72</td>\n",
       "      <td>GB</td>\n",
       "      <td>202204</td>\n",
       "      <td>HERMES</td>\n",
       "      <td>GU25 4EU</td>\n",
       "      <td>Virginia Water</td>\n",
       "      <td>0</td>\n",
       "      <td>0</td>\n",
       "    </tr>\n",
       "    <tr>\n",
       "      <th>266299</th>\n",
       "      <td>4</td>\n",
       "      <td>385.21</td>\n",
       "      <td>GB</td>\n",
       "      <td>202206</td>\n",
       "      <td>HERMES</td>\n",
       "      <td>LE4 6GJ</td>\n",
       "      <td>Leicester</td>\n",
       "      <td>0</td>\n",
       "      <td>0</td>\n",
       "    </tr>\n",
       "  </tbody>\n",
       "</table>\n",
       "</div>"
      ],
      "text/plain": [
       "        number_of_claims  claims_amount country_code  sk_month carrier  \\\n",
       "257566                11        1035.37           GB    202209  HERMES   \n",
       "138765                 8         673.44           GB    202201  HERMES   \n",
       "108087                 8         734.39           GB    202202  HERMES   \n",
       "96583                  6         681.13           GB    202201  HERMES   \n",
       "12575                  6         407.49           GB    202207  HERMES   \n",
       "144043                 5         396.20           GB    202204  HERMES   \n",
       "231951                 5         475.95           GB    202210  HERMES   \n",
       "150276                 5         475.05           GB    202210  HERMES   \n",
       "39106                  5         474.58           GB    202211  HERMES   \n",
       "20128                  5         215.12           GB    202204  HERMES   \n",
       "36960                  5         366.34           GB    202211  HERMES   \n",
       "89633                  5         795.81           GB    202204  HERMES   \n",
       "145311                 5         340.16           GB    202212  HERMES   \n",
       "154001                 5         490.92           GB    202204  HERMES   \n",
       "238984                 4        1162.09           GB    202203  HERMES   \n",
       "113640                 4         289.95           GB    202201  HERMES   \n",
       "10383                  4         313.63           GB    202206  HERMES   \n",
       "203529                 4        1089.29           GB    202202  HERMES   \n",
       "778                    4         223.19           GB    202212  HERMES   \n",
       "271676                 4         317.44           GB    202202  HERMES   \n",
       "214317                 4         317.20           GB    202206  HERMES   \n",
       "48232                  4         340.68           GB    202203  HERMES   \n",
       "254719                 4         477.22           GB    202203  HERMES   \n",
       "168139                 4         330.05           GB    202206  HERMES   \n",
       "44997                  4         492.46           GB    202205  HERMES   \n",
       "12622                  4         514.24           GB    202210  HERMES   \n",
       "264154                 4        3027.97           GB    202203  HERMES   \n",
       "36496                  4         259.58           GB    202201  HERMES   \n",
       "250353                 4        1818.72           GB    202204  HERMES   \n",
       "266299                 4         385.21           GB    202206  HERMES   \n",
       "\n",
       "             ZIP                       city unplanned_return_flag  \\\n",
       "257566   UB2 4HW                     London                     0   \n",
       "138765    N9 9LN                     London                     0   \n",
       "108087   KT3 3ST                 New Malden                     0   \n",
       "96583   SW1V 1RY        City Of Westminster                     0   \n",
       "12575     N4 4AU                     London                     0   \n",
       "144043    E8 3DF                     London                     0   \n",
       "231951   UB2 4HW                     London                     0   \n",
       "150276   UB2 4HW                     London                     0   \n",
       "39106   SE13 5PR                     London                     0   \n",
       "20128     N8 0RX                     London                     0   \n",
       "36960     N8 7NX                     London                     1   \n",
       "89633     N1 1RU                  ISLINGTON                     0   \n",
       "145311   UB2 4HW                     London                     0   \n",
       "154001    N4 2JS                     London                     0   \n",
       "238984   HA7 4EU                   Stanmore                     0   \n",
       "113640   LE4 6GJ                  Leicester                     0   \n",
       "10383    BB9 7YN                     Nelson                     0   \n",
       "203529  RM19 1NT                   Purfleet                     0   \n",
       "778      NN6 0NP  Earls Barton, Northampton                     0   \n",
       "271676  SW1V 1RY        City Of Westminster                     0   \n",
       "214317    E8 3SG                     London                     0   \n",
       "48232     N1 6SU                     London                     0   \n",
       "254719    E1 4AA                     London                     0   \n",
       "168139    N8 8DU                     London                     0   \n",
       "44997   SG14 1AL                   Hertford                     0   \n",
       "12622   CM23 5EP         Bishop's Stortford                     0   \n",
       "264154   E18 1JJ             South Woodford                     0   \n",
       "36496    M22 1TY                Wythenshawe                     0   \n",
       "250353  GU25 4EU             Virginia Water                     0   \n",
       "266299   LE4 6GJ                  Leicester                     0   \n",
       "\n",
       "       reconditioned_claim_flag  \n",
       "257566                        0  \n",
       "138765                        0  \n",
       "108087                        0  \n",
       "96583                         0  \n",
       "12575                         0  \n",
       "144043                        0  \n",
       "231951                        0  \n",
       "150276                        1  \n",
       "39106                         0  \n",
       "20128                         0  \n",
       "36960                         0  \n",
       "89633                         0  \n",
       "145311                        0  \n",
       "154001                        0  \n",
       "238984                        0  \n",
       "113640                        0  \n",
       "10383                         0  \n",
       "203529                        0  \n",
       "778                           0  \n",
       "271676                        0  \n",
       "214317                        0  \n",
       "48232                         0  \n",
       "254719                        0  \n",
       "168139                        0  \n",
       "44997                         0  \n",
       "12622                         0  \n",
       "264154                        0  \n",
       "36496                         0  \n",
       "250353                        0  \n",
       "266299                        0  "
      ]
     },
     "execution_count": 59,
     "metadata": {},
     "output_type": "execute_result"
    }
   ],
   "source": [
    "group_country_uk.sort_values(by=['number_of_claims'], ascending=False, na_position='first').head(30)"
   ]
  },
  {
   "cell_type": "code",
   "execution_count": null,
   "id": "bfdad0c0-5546-4e23-8a40-40f8b5d5dc55",
   "metadata": {},
   "outputs": [],
   "source": []
  },
  {
   "cell_type": "code",
   "execution_count": 64,
   "id": "e5af6317-6d13-4061-b9c4-c74a0ee2a58d",
   "metadata": {},
   "outputs": [],
   "source": [
    "import pandas as pd\n",
    "import pandas_bokeh\n",
    "import matplotlib.pyplot as plt\n",
    "import pgeocode\n",
    "import geopandas as gpd\n",
    "from shapely.geometry import Point\n",
    "from geopandas import GeoDataFrame\n",
    "\n",
    "import plotly.graph_objects as go\n",
    "## Adding some dummy data \n",
    "nomi = pgeocode.Nominatim('gb')\n",
    "\n",
    "edf['Latitude'] = (nomi.query_postal_code(group_country_uk['ZIP'].tolist()).latitude)\n",
    "edf['Longitude'] = (nomi.query_postal_code(group_country_uk['ZIP'].tolist()).longitude)\n"
   ]
  },
  {
   "cell_type": "code",
   "execution_count": 65,
   "id": "d521ec39-fa1b-44cc-82c8-2bb87bf2be53",
   "metadata": {},
   "outputs": [
    {
     "data": {
      "text/plain": [
       "0   -4.300700\n",
       "1   -0.174700\n",
       "2    0.388400\n",
       "3   -1.567140\n",
       "4   -0.381975\n",
       "Name: Longitude, dtype: float64"
      ]
     },
     "execution_count": 65,
     "metadata": {},
     "output_type": "execute_result"
    }
   ],
   "source": [
    "edf['Longitude']"
   ]
  },
  {
   "cell_type": "code",
   "execution_count": 62,
   "id": "4f4d26f1-e4c3-4ca5-902c-497367efc462",
   "metadata": {},
   "outputs": [
    {
     "data": {
      "application/vnd.plotly.v1+json": {
       "config": {
        "plotlyServerURL": "https://plot.ly"
       },
       "data": [
        {
         "lat": [
          55.8804,
          51.5299,
          51.47323333333333,
          54.77482,
          51.9114
         ],
         "lon": [
          -4.3007,
          -0.1747,
          0.3884,
          -1.56714,
          -0.381975
         ],
         "marker": {
          "color": [
           1,
           3,
           2,
           3,
           4
          ]
         },
         "mode": "markers",
         "text": [
          "val1",
          "val2",
          "val3",
          "val2",
          "val2"
         ],
         "type": "scattergeo"
        }
       ],
       "layout": {
        "autosize": true,
        "geo": {
         "center": {
          "lat": 58.66327136446533,
          "lon": -2.7734946530133375
         },
         "projection": {
          "scale": 3.722889971773969
         },
         "scope": "europe"
        },
        "margin": {
         "b": 40,
         "l": 40,
         "r": 40,
         "t": 40
        },
        "template": {
         "data": {
          "bar": [
           {
            "error_x": {
             "color": "#2a3f5f"
            },
            "error_y": {
             "color": "#2a3f5f"
            },
            "marker": {
             "line": {
              "color": "#E5ECF6",
              "width": 0.5
             },
             "pattern": {
              "fillmode": "overlay",
              "size": 10,
              "solidity": 0.2
             }
            },
            "type": "bar"
           }
          ],
          "barpolar": [
           {
            "marker": {
             "line": {
              "color": "#E5ECF6",
              "width": 0.5
             },
             "pattern": {
              "fillmode": "overlay",
              "size": 10,
              "solidity": 0.2
             }
            },
            "type": "barpolar"
           }
          ],
          "carpet": [
           {
            "aaxis": {
             "endlinecolor": "#2a3f5f",
             "gridcolor": "white",
             "linecolor": "white",
             "minorgridcolor": "white",
             "startlinecolor": "#2a3f5f"
            },
            "baxis": {
             "endlinecolor": "#2a3f5f",
             "gridcolor": "white",
             "linecolor": "white",
             "minorgridcolor": "white",
             "startlinecolor": "#2a3f5f"
            },
            "type": "carpet"
           }
          ],
          "choropleth": [
           {
            "colorbar": {
             "outlinewidth": 0,
             "ticks": ""
            },
            "type": "choropleth"
           }
          ],
          "contour": [
           {
            "colorbar": {
             "outlinewidth": 0,
             "ticks": ""
            },
            "colorscale": [
             [
              0,
              "#0d0887"
             ],
             [
              0.1111111111111111,
              "#46039f"
             ],
             [
              0.2222222222222222,
              "#7201a8"
             ],
             [
              0.3333333333333333,
              "#9c179e"
             ],
             [
              0.4444444444444444,
              "#bd3786"
             ],
             [
              0.5555555555555556,
              "#d8576b"
             ],
             [
              0.6666666666666666,
              "#ed7953"
             ],
             [
              0.7777777777777778,
              "#fb9f3a"
             ],
             [
              0.8888888888888888,
              "#fdca26"
             ],
             [
              1,
              "#f0f921"
             ]
            ],
            "type": "contour"
           }
          ],
          "contourcarpet": [
           {
            "colorbar": {
             "outlinewidth": 0,
             "ticks": ""
            },
            "type": "contourcarpet"
           }
          ],
          "heatmap": [
           {
            "colorbar": {
             "outlinewidth": 0,
             "ticks": ""
            },
            "colorscale": [
             [
              0,
              "#0d0887"
             ],
             [
              0.1111111111111111,
              "#46039f"
             ],
             [
              0.2222222222222222,
              "#7201a8"
             ],
             [
              0.3333333333333333,
              "#9c179e"
             ],
             [
              0.4444444444444444,
              "#bd3786"
             ],
             [
              0.5555555555555556,
              "#d8576b"
             ],
             [
              0.6666666666666666,
              "#ed7953"
             ],
             [
              0.7777777777777778,
              "#fb9f3a"
             ],
             [
              0.8888888888888888,
              "#fdca26"
             ],
             [
              1,
              "#f0f921"
             ]
            ],
            "type": "heatmap"
           }
          ],
          "heatmapgl": [
           {
            "colorbar": {
             "outlinewidth": 0,
             "ticks": ""
            },
            "colorscale": [
             [
              0,
              "#0d0887"
             ],
             [
              0.1111111111111111,
              "#46039f"
             ],
             [
              0.2222222222222222,
              "#7201a8"
             ],
             [
              0.3333333333333333,
              "#9c179e"
             ],
             [
              0.4444444444444444,
              "#bd3786"
             ],
             [
              0.5555555555555556,
              "#d8576b"
             ],
             [
              0.6666666666666666,
              "#ed7953"
             ],
             [
              0.7777777777777778,
              "#fb9f3a"
             ],
             [
              0.8888888888888888,
              "#fdca26"
             ],
             [
              1,
              "#f0f921"
             ]
            ],
            "type": "heatmapgl"
           }
          ],
          "histogram": [
           {
            "marker": {
             "pattern": {
              "fillmode": "overlay",
              "size": 10,
              "solidity": 0.2
             }
            },
            "type": "histogram"
           }
          ],
          "histogram2d": [
           {
            "colorbar": {
             "outlinewidth": 0,
             "ticks": ""
            },
            "colorscale": [
             [
              0,
              "#0d0887"
             ],
             [
              0.1111111111111111,
              "#46039f"
             ],
             [
              0.2222222222222222,
              "#7201a8"
             ],
             [
              0.3333333333333333,
              "#9c179e"
             ],
             [
              0.4444444444444444,
              "#bd3786"
             ],
             [
              0.5555555555555556,
              "#d8576b"
             ],
             [
              0.6666666666666666,
              "#ed7953"
             ],
             [
              0.7777777777777778,
              "#fb9f3a"
             ],
             [
              0.8888888888888888,
              "#fdca26"
             ],
             [
              1,
              "#f0f921"
             ]
            ],
            "type": "histogram2d"
           }
          ],
          "histogram2dcontour": [
           {
            "colorbar": {
             "outlinewidth": 0,
             "ticks": ""
            },
            "colorscale": [
             [
              0,
              "#0d0887"
             ],
             [
              0.1111111111111111,
              "#46039f"
             ],
             [
              0.2222222222222222,
              "#7201a8"
             ],
             [
              0.3333333333333333,
              "#9c179e"
             ],
             [
              0.4444444444444444,
              "#bd3786"
             ],
             [
              0.5555555555555556,
              "#d8576b"
             ],
             [
              0.6666666666666666,
              "#ed7953"
             ],
             [
              0.7777777777777778,
              "#fb9f3a"
             ],
             [
              0.8888888888888888,
              "#fdca26"
             ],
             [
              1,
              "#f0f921"
             ]
            ],
            "type": "histogram2dcontour"
           }
          ],
          "mesh3d": [
           {
            "colorbar": {
             "outlinewidth": 0,
             "ticks": ""
            },
            "type": "mesh3d"
           }
          ],
          "parcoords": [
           {
            "line": {
             "colorbar": {
              "outlinewidth": 0,
              "ticks": ""
             }
            },
            "type": "parcoords"
           }
          ],
          "pie": [
           {
            "automargin": true,
            "type": "pie"
           }
          ],
          "scatter": [
           {
            "fillpattern": {
             "fillmode": "overlay",
             "size": 10,
             "solidity": 0.2
            },
            "type": "scatter"
           }
          ],
          "scatter3d": [
           {
            "line": {
             "colorbar": {
              "outlinewidth": 0,
              "ticks": ""
             }
            },
            "marker": {
             "colorbar": {
              "outlinewidth": 0,
              "ticks": ""
             }
            },
            "type": "scatter3d"
           }
          ],
          "scattercarpet": [
           {
            "marker": {
             "colorbar": {
              "outlinewidth": 0,
              "ticks": ""
             }
            },
            "type": "scattercarpet"
           }
          ],
          "scattergeo": [
           {
            "marker": {
             "colorbar": {
              "outlinewidth": 0,
              "ticks": ""
             }
            },
            "type": "scattergeo"
           }
          ],
          "scattergl": [
           {
            "marker": {
             "colorbar": {
              "outlinewidth": 0,
              "ticks": ""
             }
            },
            "type": "scattergl"
           }
          ],
          "scattermapbox": [
           {
            "marker": {
             "colorbar": {
              "outlinewidth": 0,
              "ticks": ""
             }
            },
            "type": "scattermapbox"
           }
          ],
          "scatterpolar": [
           {
            "marker": {
             "colorbar": {
              "outlinewidth": 0,
              "ticks": ""
             }
            },
            "type": "scatterpolar"
           }
          ],
          "scatterpolargl": [
           {
            "marker": {
             "colorbar": {
              "outlinewidth": 0,
              "ticks": ""
             }
            },
            "type": "scatterpolargl"
           }
          ],
          "scatterternary": [
           {
            "marker": {
             "colorbar": {
              "outlinewidth": 0,
              "ticks": ""
             }
            },
            "type": "scatterternary"
           }
          ],
          "surface": [
           {
            "colorbar": {
             "outlinewidth": 0,
             "ticks": ""
            },
            "colorscale": [
             [
              0,
              "#0d0887"
             ],
             [
              0.1111111111111111,
              "#46039f"
             ],
             [
              0.2222222222222222,
              "#7201a8"
             ],
             [
              0.3333333333333333,
              "#9c179e"
             ],
             [
              0.4444444444444444,
              "#bd3786"
             ],
             [
              0.5555555555555556,
              "#d8576b"
             ],
             [
              0.6666666666666666,
              "#ed7953"
             ],
             [
              0.7777777777777778,
              "#fb9f3a"
             ],
             [
              0.8888888888888888,
              "#fdca26"
             ],
             [
              1,
              "#f0f921"
             ]
            ],
            "type": "surface"
           }
          ],
          "table": [
           {
            "cells": {
             "fill": {
              "color": "#EBF0F8"
             },
             "line": {
              "color": "white"
             }
            },
            "header": {
             "fill": {
              "color": "#C8D4E3"
             },
             "line": {
              "color": "white"
             }
            },
            "type": "table"
           }
          ]
         },
         "layout": {
          "annotationdefaults": {
           "arrowcolor": "#2a3f5f",
           "arrowhead": 0,
           "arrowwidth": 1
          },
          "autotypenumbers": "strict",
          "coloraxis": {
           "colorbar": {
            "outlinewidth": 0,
            "ticks": ""
           }
          },
          "colorscale": {
           "diverging": [
            [
             0,
             "#8e0152"
            ],
            [
             0.1,
             "#c51b7d"
            ],
            [
             0.2,
             "#de77ae"
            ],
            [
             0.3,
             "#f1b6da"
            ],
            [
             0.4,
             "#fde0ef"
            ],
            [
             0.5,
             "#f7f7f7"
            ],
            [
             0.6,
             "#e6f5d0"
            ],
            [
             0.7,
             "#b8e186"
            ],
            [
             0.8,
             "#7fbc41"
            ],
            [
             0.9,
             "#4d9221"
            ],
            [
             1,
             "#276419"
            ]
           ],
           "sequential": [
            [
             0,
             "#0d0887"
            ],
            [
             0.1111111111111111,
             "#46039f"
            ],
            [
             0.2222222222222222,
             "#7201a8"
            ],
            [
             0.3333333333333333,
             "#9c179e"
            ],
            [
             0.4444444444444444,
             "#bd3786"
            ],
            [
             0.5555555555555556,
             "#d8576b"
            ],
            [
             0.6666666666666666,
             "#ed7953"
            ],
            [
             0.7777777777777778,
             "#fb9f3a"
            ],
            [
             0.8888888888888888,
             "#fdca26"
            ],
            [
             1,
             "#f0f921"
            ]
           ],
           "sequentialminus": [
            [
             0,
             "#0d0887"
            ],
            [
             0.1111111111111111,
             "#46039f"
            ],
            [
             0.2222222222222222,
             "#7201a8"
            ],
            [
             0.3333333333333333,
             "#9c179e"
            ],
            [
             0.4444444444444444,
             "#bd3786"
            ],
            [
             0.5555555555555556,
             "#d8576b"
            ],
            [
             0.6666666666666666,
             "#ed7953"
            ],
            [
             0.7777777777777778,
             "#fb9f3a"
            ],
            [
             0.8888888888888888,
             "#fdca26"
            ],
            [
             1,
             "#f0f921"
            ]
           ]
          },
          "colorway": [
           "#636efa",
           "#EF553B",
           "#00cc96",
           "#ab63fa",
           "#FFA15A",
           "#19d3f3",
           "#FF6692",
           "#B6E880",
           "#FF97FF",
           "#FECB52"
          ],
          "font": {
           "color": "#2a3f5f"
          },
          "geo": {
           "bgcolor": "white",
           "lakecolor": "white",
           "landcolor": "#E5ECF6",
           "showlakes": true,
           "showland": true,
           "subunitcolor": "white"
          },
          "hoverlabel": {
           "align": "left"
          },
          "hovermode": "closest",
          "mapbox": {
           "style": "light"
          },
          "paper_bgcolor": "white",
          "plot_bgcolor": "#E5ECF6",
          "polar": {
           "angularaxis": {
            "gridcolor": "white",
            "linecolor": "white",
            "ticks": ""
           },
           "bgcolor": "#E5ECF6",
           "radialaxis": {
            "gridcolor": "white",
            "linecolor": "white",
            "ticks": ""
           }
          },
          "scene": {
           "xaxis": {
            "backgroundcolor": "#E5ECF6",
            "gridcolor": "white",
            "gridwidth": 2,
            "linecolor": "white",
            "showbackground": true,
            "ticks": "",
            "zerolinecolor": "white"
           },
           "yaxis": {
            "backgroundcolor": "#E5ECF6",
            "gridcolor": "white",
            "gridwidth": 2,
            "linecolor": "white",
            "showbackground": true,
            "ticks": "",
            "zerolinecolor": "white"
           },
           "zaxis": {
            "backgroundcolor": "#E5ECF6",
            "gridcolor": "white",
            "gridwidth": 2,
            "linecolor": "white",
            "showbackground": true,
            "ticks": "",
            "zerolinecolor": "white"
           }
          },
          "shapedefaults": {
           "line": {
            "color": "#2a3f5f"
           }
          },
          "ternary": {
           "aaxis": {
            "gridcolor": "white",
            "linecolor": "white",
            "ticks": ""
           },
           "baxis": {
            "gridcolor": "white",
            "linecolor": "white",
            "ticks": ""
           },
           "bgcolor": "#E5ECF6",
           "caxis": {
            "gridcolor": "white",
            "linecolor": "white",
            "ticks": ""
           }
          },
          "title": {
           "x": 0.05
          },
          "xaxis": {
           "automargin": true,
           "gridcolor": "white",
           "linecolor": "white",
           "ticks": "",
           "title": {
            "standoff": 15
           },
           "zerolinecolor": "white",
           "zerolinewidth": 2
          },
          "yaxis": {
           "automargin": true,
           "gridcolor": "white",
           "linecolor": "white",
           "ticks": "",
           "title": {
            "standoff": 15
           },
           "zerolinecolor": "white",
           "zerolinewidth": 2
          }
         }
        },
        "title": {
         "text": "colC Distribution"
        }
       }
      },
      "image/png": "[encoded data removed]",
      "text/html": [
       "<div>                            <div id=\"6d536d7d-f67c-4cbc-b808-bdf2a450ab79\" class=\"plotly-graph-div\" style=\"height:525px; width:100%;\"></div>            <script type=\"text/javascript\">                require([\"plotly\"], function(Plotly) {                    window.PLOTLYENV=window.PLOTLYENV || {};                                    if (document.getElementById(\"6d536d7d-f67c-4cbc-b808-bdf2a450ab79\")) {                    Plotly.newPlot(                        \"6d536d7d-f67c-4cbc-b808-bdf2a450ab79\",                        [{\"lat\":[55.8804,51.5299,51.47323333333333,54.77482,51.9114],\"lon\":[-4.3007,-0.1747,0.3884,-1.56714,-0.381975],\"marker\":{\"color\":[1,3,2,3,4]},\"mode\":\"markers\",\"text\":[\"val1\",\"val2\",\"val3\",\"val2\",\"val2\"],\"type\":\"scattergeo\"}],                        {\"template\":{\"data\":{\"histogram2dcontour\":[{\"type\":\"histogram2dcontour\",\"colorbar\":{\"outlinewidth\":0,\"ticks\":\"\"},\"colorscale\":[[0.0,\"#0d0887\"],[0.1111111111111111,\"#46039f\"],[0.2222222222222222,\"#7201a8\"],[0.3333333333333333,\"#9c179e\"],[0.4444444444444444,\"#bd3786\"],[0.5555555555555556,\"#d8576b\"],[0.6666666666666666,\"#ed7953\"],[0.7777777777777778,\"#fb9f3a\"],[0.8888888888888888,\"#fdca26\"],[1.0,\"#f0f921\"]]}],\"choropleth\":[{\"type\":\"choropleth\",\"colorbar\":{\"outlinewidth\":0,\"ticks\":\"\"}}],\"histogram2d\":[{\"type\":\"histogram2d\",\"colorbar\":{\"outlinewidth\":0,\"ticks\":\"\"},\"colorscale\":[[0.0,\"#0d0887\"],[0.1111111111111111,\"#46039f\"],[0.2222222222222222,\"#7201a8\"],[0.3333333333333333,\"#9c179e\"],[0.4444444444444444,\"#bd3786\"],[0.5555555555555556,\"#d8576b\"],[0.6666666666666666,\"#ed7953\"],[0.7777777777777778,\"#fb9f3a\"],[0.8888888888888888,\"#fdca26\"],[1.0,\"#f0f921\"]]}],\"heatmap\":[{\"type\":\"heatmap\",\"colorbar\":{\"outlinewidth\":0,\"ticks\":\"\"},\"colorscale\":[[0.0,\"#0d0887\"],[0.1111111111111111,\"#46039f\"],[0.2222222222222222,\"#7201a8\"],[0.3333333333333333,\"#9c179e\"],[0.4444444444444444,\"#bd3786\"],[0.5555555555555556,\"#d8576b\"],[0.6666666666666666,\"#ed7953\"],[0.7777777777777778,\"#fb9f3a\"],[0.8888888888888888,\"#fdca26\"],[1.0,\"#f0f921\"]]}],\"heatmapgl\":[{\"type\":\"heatmapgl\",\"colorbar\":{\"outlinewidth\":0,\"ticks\":\"\"},\"colorscale\":[[0.0,\"#0d0887\"],[0.1111111111111111,\"#46039f\"],[0.2222222222222222,\"#7201a8\"],[0.3333333333333333,\"#9c179e\"],[0.4444444444444444,\"#bd3786\"],[0.5555555555555556,\"#d8576b\"],[0.6666666666666666,\"#ed7953\"],[0.7777777777777778,\"#fb9f3a\"],[0.8888888888888888,\"#fdca26\"],[1.0,\"#f0f921\"]]}],\"contourcarpet\":[{\"type\":\"contourcarpet\",\"colorbar\":{\"outlinewidth\":0,\"ticks\":\"\"}}],\"contour\":[{\"type\":\"contour\",\"colorbar\":{\"outlinewidth\":0,\"ticks\":\"\"},\"colorscale\":[[0.0,\"#0d0887\"],[0.1111111111111111,\"#46039f\"],[0.2222222222222222,\"#7201a8\"],[0.3333333333333333,\"#9c179e\"],[0.4444444444444444,\"#bd3786\"],[0.5555555555555556,\"#d8576b\"],[0.6666666666666666,\"#ed7953\"],[0.7777777777777778,\"#fb9f3a\"],[0.8888888888888888,\"#fdca26\"],[1.0,\"#f0f921\"]]}],\"surface\":[{\"type\":\"surface\",\"colorbar\":{\"outlinewidth\":0,\"ticks\":\"\"},\"colorscale\":[[0.0,\"#0d0887\"],[0.1111111111111111,\"#46039f\"],[0.2222222222222222,\"#7201a8\"],[0.3333333333333333,\"#9c179e\"],[0.4444444444444444,\"#bd3786\"],[0.5555555555555556,\"#d8576b\"],[0.6666666666666666,\"#ed7953\"],[0.7777777777777778,\"#fb9f3a\"],[0.8888888888888888,\"#fdca26\"],[1.0,\"#f0f921\"]]}],\"mesh3d\":[{\"type\":\"mesh3d\",\"colorbar\":{\"outlinewidth\":0,\"ticks\":\"\"}}],\"scatter\":[{\"fillpattern\":{\"fillmode\":\"overlay\",\"size\":10,\"solidity\":0.2},\"type\":\"scatter\"}],\"parcoords\":[{\"type\":\"parcoords\",\"line\":{\"colorbar\":{\"outlinewidth\":0,\"ticks\":\"\"}}}],\"scatterpolargl\":[{\"type\":\"scatterpolargl\",\"marker\":{\"colorbar\":{\"outlinewidth\":0,\"ticks\":\"\"}}}],\"bar\":[{\"error_x\":{\"color\":\"#2a3f5f\"},\"error_y\":{\"color\":\"#2a3f5f\"},\"marker\":{\"line\":{\"color\":\"#E5ECF6\",\"width\":0.5},\"pattern\":{\"fillmode\":\"overlay\",\"size\":10,\"solidity\":0.2}},\"type\":\"bar\"}],\"scattergeo\":[{\"type\":\"scattergeo\",\"marker\":{\"colorbar\":{\"outlinewidth\":0,\"ticks\":\"\"}}}],\"scatterpolar\":[{\"type\":\"scatterpolar\",\"marker\":{\"colorbar\":{\"outlinewidth\":0,\"ticks\":\"\"}}}],\"histogram\":[{\"marker\":{\"pattern\":{\"fillmode\":\"overlay\",\"size\":10,\"solidity\":0.2}},\"type\":\"histogram\"}],\"scattergl\":[{\"type\":\"scattergl\",\"marker\":{\"colorbar\":{\"outlinewidth\":0,\"ticks\":\"\"}}}],\"scatter3d\":[{\"type\":\"scatter3d\",\"line\":{\"colorbar\":{\"outlinewidth\":0,\"ticks\":\"\"}},\"marker\":{\"colorbar\":{\"outlinewidth\":0,\"ticks\":\"\"}}}],\"scattermapbox\":[{\"type\":\"scattermapbox\",\"marker\":{\"colorbar\":{\"outlinewidth\":0,\"ticks\":\"\"}}}],\"scatterternary\":[{\"type\":\"scatterternary\",\"marker\":{\"colorbar\":{\"outlinewidth\":0,\"ticks\":\"\"}}}],\"scattercarpet\":[{\"type\":\"scattercarpet\",\"marker\":{\"colorbar\":{\"outlinewidth\":0,\"ticks\":\"\"}}}],\"carpet\":[{\"aaxis\":{\"endlinecolor\":\"#2a3f5f\",\"gridcolor\":\"white\",\"linecolor\":\"white\",\"minorgridcolor\":\"white\",\"startlinecolor\":\"#2a3f5f\"},\"baxis\":{\"endlinecolor\":\"#2a3f5f\",\"gridcolor\":\"white\",\"linecolor\":\"white\",\"minorgridcolor\":\"white\",\"startlinecolor\":\"#2a3f5f\"},\"type\":\"carpet\"}],\"table\":[{\"cells\":{\"fill\":{\"color\":\"#EBF0F8\"},\"line\":{\"color\":\"white\"}},\"header\":{\"fill\":{\"color\":\"#C8D4E3\"},\"line\":{\"color\":\"white\"}},\"type\":\"table\"}],\"barpolar\":[{\"marker\":{\"line\":{\"color\":\"#E5ECF6\",\"width\":0.5},\"pattern\":{\"fillmode\":\"overlay\",\"size\":10,\"solidity\":0.2}},\"type\":\"barpolar\"}],\"pie\":[{\"automargin\":true,\"type\":\"pie\"}]},\"layout\":{\"autotypenumbers\":\"strict\",\"colorway\":[\"#636efa\",\"#EF553B\",\"#00cc96\",\"#ab63fa\",\"#FFA15A\",\"#19d3f3\",\"#FF6692\",\"#B6E880\",\"#FF97FF\",\"#FECB52\"],\"font\":{\"color\":\"#2a3f5f\"},\"hovermode\":\"closest\",\"hoverlabel\":{\"align\":\"left\"},\"paper_bgcolor\":\"white\",\"plot_bgcolor\":\"#E5ECF6\",\"polar\":{\"bgcolor\":\"#E5ECF6\",\"angularaxis\":{\"gridcolor\":\"white\",\"linecolor\":\"white\",\"ticks\":\"\"},\"radialaxis\":{\"gridcolor\":\"white\",\"linecolor\":\"white\",\"ticks\":\"\"}},\"ternary\":{\"bgcolor\":\"#E5ECF6\",\"aaxis\":{\"gridcolor\":\"white\",\"linecolor\":\"white\",\"ticks\":\"\"},\"baxis\":{\"gridcolor\":\"white\",\"linecolor\":\"white\",\"ticks\":\"\"},\"caxis\":{\"gridcolor\":\"white\",\"linecolor\":\"white\",\"ticks\":\"\"}},\"coloraxis\":{\"colorbar\":{\"outlinewidth\":0,\"ticks\":\"\"}},\"colorscale\":{\"sequential\":[[0.0,\"#0d0887\"],[0.1111111111111111,\"#46039f\"],[0.2222222222222222,\"#7201a8\"],[0.3333333333333333,\"#9c179e\"],[0.4444444444444444,\"#bd3786\"],[0.5555555555555556,\"#d8576b\"],[0.6666666666666666,\"#ed7953\"],[0.7777777777777778,\"#fb9f3a\"],[0.8888888888888888,\"#fdca26\"],[1.0,\"#f0f921\"]],\"sequentialminus\":[[0.0,\"#0d0887\"],[0.1111111111111111,\"#46039f\"],[0.2222222222222222,\"#7201a8\"],[0.3333333333333333,\"#9c179e\"],[0.4444444444444444,\"#bd3786\"],[0.5555555555555556,\"#d8576b\"],[0.6666666666666666,\"#ed7953\"],[0.7777777777777778,\"#fb9f3a\"],[0.8888888888888888,\"#fdca26\"],[1.0,\"#f0f921\"]],\"diverging\":[[0,\"#8e0152\"],[0.1,\"#c51b7d\"],[0.2,\"#de77ae\"],[0.3,\"#f1b6da\"],[0.4,\"#fde0ef\"],[0.5,\"#f7f7f7\"],[0.6,\"#e6f5d0\"],[0.7,\"#b8e186\"],[0.8,\"#7fbc41\"],[0.9,\"#4d9221\"],[1,\"#276419\"]]},\"xaxis\":{\"gridcolor\":\"white\",\"linecolor\":\"white\",\"ticks\":\"\",\"title\":{\"standoff\":15},\"zerolinecolor\":\"white\",\"automargin\":true,\"zerolinewidth\":2},\"yaxis\":{\"gridcolor\":\"white\",\"linecolor\":\"white\",\"ticks\":\"\",\"title\":{\"standoff\":15},\"zerolinecolor\":\"white\",\"automargin\":true,\"zerolinewidth\":2},\"scene\":{\"xaxis\":{\"backgroundcolor\":\"#E5ECF6\",\"gridcolor\":\"white\",\"linecolor\":\"white\",\"showbackground\":true,\"ticks\":\"\",\"zerolinecolor\":\"white\",\"gridwidth\":2},\"yaxis\":{\"backgroundcolor\":\"#E5ECF6\",\"gridcolor\":\"white\",\"linecolor\":\"white\",\"showbackground\":true,\"ticks\":\"\",\"zerolinecolor\":\"white\",\"gridwidth\":2},\"zaxis\":{\"backgroundcolor\":\"#E5ECF6\",\"gridcolor\":\"white\",\"linecolor\":\"white\",\"showbackground\":true,\"ticks\":\"\",\"zerolinecolor\":\"white\",\"gridwidth\":2}},\"shapedefaults\":{\"line\":{\"color\":\"#2a3f5f\"}},\"annotationdefaults\":{\"arrowcolor\":\"#2a3f5f\",\"arrowhead\":0,\"arrowwidth\":1},\"geo\":{\"bgcolor\":\"white\",\"landcolor\":\"#E5ECF6\",\"subunitcolor\":\"white\",\"showland\":true,\"showlakes\":true,\"lakecolor\":\"white\"},\"title\":{\"x\":0.05},\"mapbox\":{\"style\":\"light\"}}},\"geo\":{\"scope\":\"europe\"},\"margin\":{\"l\":40,\"r\":40,\"t\":40,\"b\":40},\"title\":{\"text\":\"colC Distribution\"}},                        {\"responsive\": true}                    ).then(function(){\n",
       "                            \n",
       "var gd = document.getElementById('6d536d7d-f67c-4cbc-b808-bdf2a450ab79');\n",
       "var x = new MutationObserver(function (mutations, observer) {{\n",
       "        var display = window.getComputedStyle(gd).display;\n",
       "        if (!display || display === 'none') {{\n",
       "            console.log([gd, 'removed!']);\n",
       "            Plotly.purge(gd);\n",
       "            observer.disconnect();\n",
       "        }}\n",
       "}});\n",
       "\n",
       "// Listen for the removal of the full notebook cells\n",
       "var notebookContainer = gd.closest('#notebook-container');\n",
       "if (notebookContainer) {{\n",
       "    x.observe(notebookContainer, {childList: true});\n",
       "}}\n",
       "\n",
       "// Listen for the clearing of the current output cell\n",
       "var outputEl = gd.closest('.output');\n",
       "if (outputEl) {{\n",
       "    x.observe(outputEl, {childList: true});\n",
       "}}\n",
       "\n",
       "                        })                };                });            </script>        </div>"
      ]
     },
     "metadata": {},
     "output_type": "display_data"
    }
   ],
   "source": [
    "fig = go.Figure(data=go.Scattergeo(\n",
    "        lon = edf['Longitude'],\n",
    "        lat = edf['Latitude'],\n",
    "        text = edf['colC'],\n",
    "        mode = 'markers',\n",
    "        marker_color = edf['count']\n",
    "        ))\n",
    "\n",
    "fig.update_layout(\n",
    "        title = 'colC Distribution',\n",
    "        geo_scope='europe',\n",
    "    margin=dict(l=40, r=40, t=40, b=40)\n",
    "    )\n",
    "fig.show()"
   ]
  }
 ],
 "metadata": {
  "kernelspec": {
   "display_name": "Python 3 (ipykernel)",
   "language": "python",
   "name": "python3"
  },
  "language_info": {
   "codemirror_mode": {
    "name": "ipython",
    "version": 3
   },
   "file_extension": ".py",
   "mimetype": "text/x-python",
   "name": "python",
   "nbconvert_exporter": "python",
   "pygments_lexer": "ipython3",
   "version": "3.8.10"
  }
 },
 "nbformat": 4,
 "nbformat_minor": 5
}
